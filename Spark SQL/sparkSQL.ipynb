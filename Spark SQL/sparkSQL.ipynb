{
 "cells": [
  {
   "cell_type": "markdown",
   "metadata": {},
   "source": [
    "# SPARK SQL (CLOUDS Fall 2018)"
   ]
  },
  {
   "cell_type": "markdown",
   "metadata": {},
   "source": [
    "In this notebook, we will learn how to use the DataFrame API and SparkSQL to perform simple data analytics tasks.\n",
    "\n",
    "# Goals\n",
    "The main goals of this notebook are the following:\n",
    "1. Understand the advantages and disadvantages of using DataFrame over RDD\n",
    "2. Analyze the airline data with the DataFrame API and SparkSQL\n",
    "\n",
    "# Steps\n",
    "\n",
    "- First, in section 1, we will go through a short introduction about the DataFrame API with a small example to see how can we use it and how it compares to the low-level RDD abstraction.\n",
    "- In section 2, we delve into the details of the use case of this notebook including: providing the context, introducing the data\n",
    "- In section 3, we perform data exploration and analysis"
   ]
  },
  {
   "cell_type": "markdown",
   "metadata": {},
   "source": [
    "# 1. RDD and DataFrame APIs"
   ]
  },
  {
   "cell_type": "markdown",
   "metadata": {},
   "source": [
    "In our previous notebooks, we have worked with RDDs (Resilient Distributed Dataset), the basic abstraction in Spark. The main reason is due to the task at hand: we have been invovled in the design of distributed algorithms.\n",
    "\n",
    "In this laboratory session, we study (or revisit) the DataFrame API - an immutable distributed collection of data.\n",
    "DataFrames allow developers to impose a **structure** on a distributed collection of data, allowing higher-level abstraction; in addition, DataFrames provide a domain specific language (DSL) API to manipulate distributed, structured data. Ultimately, the goal is to make Spark accessible to a wider audience, beyond researchers and specialized data engineers.\n",
    "\n",
    "Let's take a small example to see the difference between RDDs and DataFrames. The two cells below contain short code snippets that perform the same task: count the frequency of words in a document, then sort the result in descending order. The first snippet is the same you have been working on in the very [first notebook](https://github.com/EURECOM-CLOUDS-COURSE/Introduction/blob/master/introduction-lab.ipynb) of the CLOUDS course.\n",
    "The second code snippet uses the DataFrame API."
   ]
  },
  {
   "cell_type": "markdown",
   "metadata": {},
   "source": [
    "<div class=\"alert alert-block alert-info\">\n",
    "\n",
    "<strong>Question 1.</strong> \n",
    "\n",
    "Run both approaches (RDD and DataFrame) detailed below, compare their runtime, and discuss. Is the DataFrame API approach faster? Can you explain why?\n",
    "\n",
    "The first approach with the DataFrame API is faster than the first cell with the previous approach (134 sec instead of 190 sec).\n",
    "\n",
    "</div>"
   ]
  },
  {
   "cell_type": "code",
   "execution_count": 1,
   "metadata": {
    "collapsed": true
   },
   "outputs": [
    {
     "name": "stdout",
     "output_type": "stream",
     "text": [
      "Runtime: 218.63 sec\n",
      "[(29556020, 'the'), (18043957, 'of'), (14914748, 'and'), (12892052, 'to'), (9779124, 'a')]\n"
     ]
    }
   ],
   "source": [
    "import time\n",
    "time_start = time.time()\n",
    "words = (\n",
    "            # read the text file\n",
    "            sc.textFile(\"/datasets/gutenberg/gutenberg_small.txt\").repartition(16)\n",
    "            \n",
    "            # construct words from lines\n",
    "            .flatMap(lambda line: line.split())\n",
    "            \n",
    "            # map each word to (word, 1)\n",
    "            .map(lambda x: (x, 1))\n",
    "    \n",
    "            # reduce by key: accumulate sum the freq of the same word\n",
    "            .reduceByKey(lambda freq1, freq2: freq1 + freq2)\n",
    "            \n",
    "            # swap (word, freq) to (freq, word)\n",
    "            .map(lambda x: (x[1], x[0]))\n",
    "    \n",
    "            # sort result by key DESC\n",
    "            .sortByKey(False)\n",
    "         )\n",
    "print(\"Runtime: %.2f sec\" % (time.time() - time_start))\n",
    "print(words.take(5))"
   ]
  },
  {
   "cell_type": "code",
   "execution_count": 2,
   "metadata": {
    "collapsed": true
   },
   "outputs": [
    {
     "name": "stdout",
     "output_type": "stream",
     "text": [
      "+----+--------+\n",
      "|word|   count|\n",
      "+----+--------+\n",
      "| the|29556020|\n",
      "|  of|18043957|\n",
      "|    |16611988|\n",
      "| and|14914748|\n",
      "|  to|12892052|\n",
      "+----+--------+\n",
      "only showing top 5 rows\n",
      "\n",
      "Runtime: 155.96 sec\n"
     ]
    }
   ],
   "source": [
    "from pyspark.sql.types import *\n",
    "from pyspark.sql import SQLContext\n",
    "from pyspark.sql.functions import explode, split, desc\n",
    "sqlContext = SQLContext(sc)\n",
    "time_start = time.time()\n",
    "\n",
    "# read the text file\n",
    "df = sqlContext.read.text(\"/datasets/gutenberg/gutenberg_small.txt\")\n",
    "\n",
    "# show 3 samples\n",
    "# df.show(3)\n",
    "\n",
    "result = (\n",
    "    # split into words\n",
    "    df.select(explode(split(df.value, \"\\s+|\\t+\")).alias('word'))\n",
    "    \n",
    "    # group by each word\n",
    "    .groupBy(['word'])\n",
    "    \n",
    "    # count the freq\n",
    "    .count()\n",
    "    \n",
    "    # sort the result\n",
    "    .orderBy(desc(\"count\"))\n",
    ")\n",
    "\n",
    "result.show(5)\n",
    "print(\"Runtime: %.2f sec\" % (time.time() - time_start))"
   ]
  },
  {
   "cell_type": "markdown",
   "metadata": {},
   "source": [
    "ANSWER:\n",
    "\n",
    "Yes, the DataFrame API approach is faster than the RDD's one: indeed 218 seconds for the RDD against 156 seconds for the DataFrame.\n",
    "At first, we can think that the RDD is faster. However, the DataFrame is a dataset, similar to a table. So SparkSQL has more information about the data structure, and words are directly read from the text. For the RDD approach, there is an operation in order to read the text file and then to construct the words from lines (first two operations). These operations are no needed in SparkSQL, which explains the result."
   ]
  },
  {
   "cell_type": "markdown",
   "metadata": {},
   "source": [
    "# 2. Analysis of flight data using the DataFrame API and SparkSQL\n",
    "\n",
    "## Use case\n",
    "\n",
    "In this notebook, we play the role of a data scientist working in the travel industry, specifically on air transportation of passengers. We want to explore the data collected by the Department of Transportation (DoT) to understand passengers' behavior, as well as the properties of all flights, across several airline companies.\n",
    "\n",
    "The dataset provided by the DoT has 29 features, that can be either categorical or numerical. For example, the ```src_airport``` (source airport) is categorical: there exist no comparison operator between airport names. We can not say \"SGN is bigger than NCE\". The ```departure_time``` feature is numerical, for which a comparison operator exists. For instance, \"flight departing before 6PM\" can be express by \"departure_time < 1800\".\n",
    "\n",
    "In this use case, most features are numerical, except carrier, flight_number, cancelled, cancelation_code and diverted. \n",
    "The data contains a header, that is useless when analyzing the data: it serves the purpose of an \"embedded schema\", to help data scientist figure out what information is available. Note that there are some features with missing values in some lines of the dataset. The missing values are marked by \"NA\". These values can cause problems when processing the data and can lead to unexpected results. Therefore, we need to remove the header and replace all \"NA\" values by empty values, such as they can be interpreted as null values.\n",
    "\n",
    "## DataFrame\n",
    "As we have seen already, there are multiple ways to manipulate data:\n",
    "\n",
    "- Using the RDD abstraction\n",
    "\n",
    "- Using the DataFrame abstraction. \n",
    "\n",
    "A DataFrame is a distributed collection of data organized into named columns. It is based on the data frame concept in R language or in Pandas for Python. In some sense, it is similar to a table in a relational database: each item is a list of values (the columns). Also, the value in each row of each column can be accessed by the column's name.\n",
    "\n",
    "To use DataFrames, the data should be clean (no invalid values). That means we cannot create DataFrame directly from the \"RAW\" data. Instead, we will first create an RDD from RAW data, produce a new, clean RDD, then transform it to a DataFrame and work on it. The RDD `cleaned_data` is an `RDD[String]`. We need to transform it to `RDD[(TypeOfColumn1, TypeOfColumn2, ..., TypeOfColumn29)]` then call a function to create a DataFrame from the new RDD. Please note that, package `com.databricks.spark.csv` can really help us to load the data efficiently without concerns about parsing, conversions, etc... However, the CSV package can have some problems when loading not well-formatted data or the data that has many kinds of missing values. The guidelines defined this notebook are a general way to help you work with any data.\n",
    "\n",
    "\n",
    "DataFrames can be constructed from a wide array of sources such as: structured data files, tables in Hive, external databases, or existing RDDs.\n",
    "\n",
    "During the labs in this course, we will mainly work with CSV data files. So, in the next sections, we only focus on constructing dataframes from structured data files directly and from existing RDD.\n",
    "\n",
    "### Constructing a DataFrame directly from structured data file\n",
    "\n",
    "To construct DataFrame from a structured file directly, the file type must be supported. Currently, Spark supports csv, json, avro and many more. Among these types, the csv type is one of the most popular in data analytics. A DataFrame is constructed from csv files by using the package spark-csv from Databricks.\n"
   ]
  },
  {
   "cell_type": "code",
   "execution_count": 3,
   "metadata": {
    "collapsed": true
   },
   "outputs": [],
   "source": [
    "from pyspark.sql import SQLContext\n",
    "from pyspark.sql.types import *\n",
    "\n",
    "sqlContext = SQLContext(sc)\n",
    "\n",
    "df = sqlContext.read.load('/datasets/airline/1994.csv', \n",
    "    format='com.databricks.spark.csv', \n",
    "    header='true', \n",
    "    inferSchema='true',\n",
    "    nullValue='NA'\n",
    ")"
   ]
  },
  {
   "cell_type": "markdown",
   "metadata": {},
   "source": [
    "Using the function load parametrized with `com.databricks.spark.csv`, we ask the SqlContext to use the parser from the DataBricks package. Additionally, we can specify whether the file has a header, or ask the parser to guess the data type of columns automatically. The parsed data types is viewed using the function printSchema."
   ]
  },
  {
   "cell_type": "code",
   "execution_count": 4,
   "metadata": {
    "collapsed": true
   },
   "outputs": [
    {
     "name": "stdout",
     "output_type": "stream",
     "text": [
      "root\n",
      " |-- Year: integer (nullable = true)\n",
      " |-- Month: integer (nullable = true)\n",
      " |-- DayofMonth: integer (nullable = true)\n",
      " |-- DayOfWeek: integer (nullable = true)\n",
      " |-- DepTime: integer (nullable = true)\n",
      " |-- CRSDepTime: integer (nullable = true)\n",
      " |-- ArrTime: integer (nullable = true)\n",
      " |-- CRSArrTime: integer (nullable = true)\n",
      " |-- UniqueCarrier: string (nullable = true)\n",
      " |-- FlightNum: integer (nullable = true)\n",
      " |-- TailNum: string (nullable = true)\n",
      " |-- ActualElapsedTime: integer (nullable = true)\n",
      " |-- CRSElapsedTime: integer (nullable = true)\n",
      " |-- AirTime: string (nullable = true)\n",
      " |-- ArrDelay: integer (nullable = true)\n",
      " |-- DepDelay: integer (nullable = true)\n",
      " |-- Origin: string (nullable = true)\n",
      " |-- Dest: string (nullable = true)\n",
      " |-- Distance: integer (nullable = true)\n",
      " |-- TaxiIn: string (nullable = true)\n",
      " |-- TaxiOut: string (nullable = true)\n",
      " |-- Cancelled: integer (nullable = true)\n",
      " |-- CancellationCode: string (nullable = true)\n",
      " |-- Diverted: integer (nullable = true)\n",
      " |-- CarrierDelay: string (nullable = true)\n",
      " |-- WeatherDelay: string (nullable = true)\n",
      " |-- NASDelay: string (nullable = true)\n",
      " |-- SecurityDelay: string (nullable = true)\n",
      " |-- LateAircraftDelay: string (nullable = true)\n",
      "\n"
     ]
    }
   ],
   "source": [
    "# print(df.dtypes)\n",
    "df.printSchema()"
   ]
  },
  {
   "cell_type": "markdown",
   "metadata": {},
   "source": [
    "As you can see, the automatically inferred data types are **not** as expected. For example, we expect that `CRSDepTime` to be of interger type. The type and the name of each column can be modified using function ```withColumn``` and ```withColumnRename``` respectively. Additionally, we can also compute and print basic descriptive statistics of numerical columns via the function ```describe``` (similar to Pandas)."
   ]
  },
  {
   "cell_type": "code",
   "execution_count": 5,
   "metadata": {
    "collapsed": true
   },
   "outputs": [
    {
     "name": "stdout",
     "output_type": "stream",
     "text": [
      "root\n",
      " |-- Year: integer (nullable = true)\n",
      " |-- Month: integer (nullable = true)\n",
      " |-- DayofMonth: integer (nullable = true)\n",
      " |-- DayOfWeek: integer (nullable = true)\n",
      " |-- DepTime: integer (nullable = true)\n",
      " |-- scheduled_departure_time: integer (nullable = true)\n",
      " |-- ArrTime: integer (nullable = true)\n",
      " |-- CRSArrTime: integer (nullable = true)\n",
      " |-- UniqueCarrier: string (nullable = true)\n",
      " |-- FlightNum: integer (nullable = true)\n",
      " |-- TailNum: string (nullable = true)\n",
      " |-- ActualElapsedTime: integer (nullable = true)\n",
      " |-- CRSElapsedTime: integer (nullable = true)\n",
      " |-- AirTime: string (nullable = true)\n",
      " |-- ArrDelay: integer (nullable = true)\n",
      " |-- DepDelay: integer (nullable = true)\n",
      " |-- Origin: string (nullable = true)\n",
      " |-- Dest: string (nullable = true)\n",
      " |-- Distance: integer (nullable = true)\n",
      " |-- TaxiIn: string (nullable = true)\n",
      " |-- TaxiOut: string (nullable = true)\n",
      " |-- Cancelled: integer (nullable = true)\n",
      " |-- CancellationCode: string (nullable = true)\n",
      " |-- Diverted: integer (nullable = true)\n",
      " |-- CarrierDelay: string (nullable = true)\n",
      " |-- WeatherDelay: string (nullable = true)\n",
      " |-- NASDelay: string (nullable = true)\n",
      " |-- SecurityDelay: string (nullable = true)\n",
      " |-- LateAircraftDelay: string (nullable = true)\n",
      "\n",
      "+-------+-------+-----------------+------------------+------------------+------------------+------------------------+------------------+-----------------+-------------+-----------------+-------+------------------+------------------+-------+-----------------+-----------------+-------+-------+-----------------+------+-------+--------------------+----------------+--------------------+------------+------------+--------+-------------+-----------------+\n",
      "|summary|   Year|            Month|        DayofMonth|         DayOfWeek|           DepTime|scheduled_departure_time|           ArrTime|       CRSArrTime|UniqueCarrier|        FlightNum|TailNum| ActualElapsedTime|    CRSElapsedTime|AirTime|         ArrDelay|         DepDelay| Origin|   Dest|         Distance|TaxiIn|TaxiOut|           Cancelled|CancellationCode|            Diverted|CarrierDelay|WeatherDelay|NASDelay|SecurityDelay|LateAircraftDelay|\n",
      "+-------+-------+-----------------+------------------+------------------+------------------+------------------------+------------------+-----------------+-------------+-----------------+-------+------------------+------------------+-------+-----------------+-----------------+-------+-------+-----------------+------+-------+--------------------+----------------+--------------------+------------+------------+--------+-------------+-----------------+\n",
      "|  count|5180048|          5180048|           5180048|           5180048|           5113308|                 5180048|           5101202|          5180048|      5180048|          5180048|      0|           5101202|           5180048|      0|          5101202|          5113308|5180048|5180048|          5157099|     0|      0|             5180048|               0|             5180048|           0|           0|       0|            0|                0|\n",
      "|   mean| 1994.0|6.579943853802127|15.723382486031017|3.9516016067804776| 1345.266130849149|      1338.6794068317513|1494.4365151585841|1495.874874904634|         null|920.2637743897354|   null|114.00258860558746|114.82526995888841|   null|5.662489742613603| 6.65992152242736|   null|   null|670.7402911985982|  null|   null|0.012884050495284986|            null|0.002337043981059635|        null|        null|    null|         null|             null|\n",
      "| stddev|    0.0|3.436720373974687| 8.788272360339171|1.9902384397189956|470.22426611386055|       463.6175011477209|483.98495590427785|472.6701494862189|         null| 608.134294392797|   null| 64.88861058427636| 64.20406191593854|   null|23.61815604081699|22.22629770848844|   null|   null|522.2696688890848|  null|   null| 0.11277435077764922|            null| 0.04828646452784276|        null|        null|    null|         null|             null|\n",
      "|    min|   1994|                1|                 1|                 1|                 1|                       1|                 1|                1|           AA|                1|   null|               -40|                -5|   null|             -115|             -109|    ABE|    ABE|               11|  null|   null|                   0|            null|                   0|        null|        null|    null|         null|             null|\n",
      "|    max|   1994|               12|                31|                 7|              2400|                    2400|              2400|             2400|           WN|             3599|   null|               740|               578|   null|             1313|             1439|    YAK|    YAK|             4502|  null|   null|                   1|            null|                   1|        null|        null|    null|         null|             null|\n",
      "+-------+-------+-----------------+------------------+------------------+------------------+------------------------+------------------+-----------------+-------------+-----------------+-------+------------------+------------------+-------+-----------------+-----------------+-------+-------+-----------------+------+-------+--------------------+----------------+--------------------+------------+------------+--------+-------------+-----------------+\n",
      "\n"
     ]
    }
   ],
   "source": [
    "df = (df\n",
    "          # change type of column CRSDepTime by casting its values to interger type\n",
    "          .withColumn('CRSDepTime', df.CRSDepTime.cast('int'))\n",
    "\n",
    "          # rename the column\n",
    "          .withColumnRenamed('CRSDepTime', 'scheduled_departure_time')\n",
    "    )\n",
    "\n",
    "# print schema of the current data\n",
    "df.printSchema()\n",
    "\n",
    "# run jobs to calculate basic statistic information and show it\n",
    "df.describe().show()"
   ]
  },
  {
   "cell_type": "markdown",
   "metadata": {},
   "source": [
    "### Constructing a DataFrame from an existing RDD\n",
    "\n",
    "Another way to construct a DataFrame is using data from an existing RDD. The main advantage of this approach is that it does not need a third party library. However, with this method, we have to remove the header ourself and provide a clear schema.\n",
    "\n"
   ]
  },
  {
   "cell_type": "code",
   "execution_count": 6,
   "metadata": {
    "collapsed": true
   },
   "outputs": [],
   "source": [
    "from pyspark.sql import SQLContext\n",
    "from pyspark.sql.types import *\n",
    "from pyspark.sql.functions import explode, split, desc, col, udf, round\n",
    "%matplotlib inline\n",
    "import matplotlib.pyplot as plt\n",
    "import matplotlib.colors as mcolors\n",
    "import pandas as pd\n",
    "import numpy as np\n",
    "import pyspark.sql.functions as func\n",
    "import matplotlib.patches as mpatches\n",
    "import seaborn as sns\n",
    "\n",
    "sqlContext = SQLContext(sc)\n",
    "\n",
    "data = sc.textFile('/datasets/airline/1994.csv')\n",
    "\n",
    "# extract the header\n",
    "header = data.first()\n",
    "\n",
    "# replace invalid data with NULL and remove header\n",
    "cleaned_data = (\n",
    "        data\n",
    "    \n",
    "        # filter out the header\n",
    "        .filter(lambda line: line != header)\n",
    "    \n",
    "         # replace the 'missing data' by empty value\n",
    "        .map(lambda line: ','.join(list(map(lambda x: x if x != 'NA' else '',line.split(',')))))\n",
    "    )\n",
    "\n",
    "airline_data_schema = StructType([ \\\n",
    "    #StructField( name, dataType, nullable)\n",
    "    StructField(\"year\",                     IntegerType(), True), \\\n",
    "    StructField(\"month\",                    IntegerType(), True), \\\n",
    "    StructField(\"day_of_month\",             IntegerType(), True), \\\n",
    "    StructField(\"day_of_week\",              IntegerType(), True), \\\n",
    "    StructField(\"departure_time\",           IntegerType(), True), \\\n",
    "    StructField(\"scheduled_departure_time\", IntegerType(), True), \\\n",
    "    StructField(\"arrival_time\",             IntegerType(), True), \\\n",
    "    StructField(\"scheduled_arrival_time\",   IntegerType(), True), \\\n",
    "    StructField(\"carrier\",                  StringType(),  True), \\\n",
    "    StructField(\"flight_number\",            StringType(),  True), \\\n",
    "    StructField(\"tail_number\",              StringType(),  True), \\\n",
    "    StructField(\"actual_elapsed_time\",      IntegerType(), True), \\\n",
    "    StructField(\"scheduled_elapsed_time\",   IntegerType(), True), \\\n",
    "    StructField(\"air_time\",                 IntegerType(), True), \\\n",
    "    StructField(\"arrival_delay\",            IntegerType(), True), \\\n",
    "    StructField(\"departure_delay\",          IntegerType(), True), \\\n",
    "    StructField(\"src_airport\",              StringType(),  True), \\\n",
    "    StructField(\"dest_airport\",             StringType(),  True), \\\n",
    "    StructField(\"distance\",                 IntegerType(), True), \\\n",
    "    StructField(\"taxi_in_time\",             IntegerType(), True), \\\n",
    "    StructField(\"taxi_out_time\",            IntegerType(), True), \\\n",
    "    StructField(\"cancelled\",                StringType(),  True), \\\n",
    "    StructField(\"cancellation_code\",        StringType(),  True), \\\n",
    "    StructField(\"diverted\",                 StringType(),  True), \\\n",
    "    StructField(\"carrier_delay\",            IntegerType(), True), \\\n",
    "    StructField(\"weather_delay\",            IntegerType(), True), \\\n",
    "    StructField(\"nas_delay\",                IntegerType(), True), \\\n",
    "    StructField(\"security_delay\",           IntegerType(), True), \\\n",
    "    StructField(\"late_aircraft_delay\",      IntegerType(), True)\\\n",
    "])"
   ]
  },
  {
   "cell_type": "code",
   "execution_count": 7,
   "metadata": {
    "collapsed": true
   },
   "outputs": [],
   "source": [
    "# convert each line into a tuple of features (columns) with the corresponding data type\n",
    "cleaned_data_to_columns = (\n",
    "    cleaned_data.map(lambda l: l.split(\",\"))\n",
    "    .map(lambda cols: \n",
    "         (\n",
    "            int(cols[0])  if cols[ 0] else None,\n",
    "            int(cols[1])  if cols[ 1] else None,\n",
    "            int(cols[2])  if cols[ 2] else None,\n",
    "            int(cols[3])  if cols[ 3] else None,\n",
    "            int(cols[4])  if cols[ 4] else None,\n",
    "            int(cols[5])  if cols[ 5] else None,\n",
    "            int(cols[6])  if cols[ 6] else None,\n",
    "            int(cols[7])  if cols[ 7] else None,\n",
    "            cols[8]       if cols[ 8] else None,\n",
    "            cols[9]       if cols[ 9] else None,\n",
    "            cols[10]      if cols[10] else None,\n",
    "            int(cols[11]) if cols[11] else None,\n",
    "            int(cols[12]) if cols[12] else None,\n",
    "            int(cols[13]) if cols[13] else None,\n",
    "            int(cols[14]) if cols[14] else None,\n",
    "            int(cols[15]) if cols[15] else None,\n",
    "            cols[16]      if cols[16] else None,\n",
    "            cols[17]      if cols[17] else None,\n",
    "            int(cols[18]) if cols[18] else None,\n",
    "            int(cols[19]) if cols[19] else None,\n",
    "            int(cols[20]) if cols[20] else None,\n",
    "            cols[21]      if cols[21] else None,\n",
    "            cols[22]      if cols[22] else None,\n",
    "            cols[23]      if cols[23] else None,\n",
    "            int(cols[24]) if cols[24] else None,\n",
    "            int(cols[25]) if cols[25] else None,\n",
    "            int(cols[26]) if cols[26] else None,\n",
    "            int(cols[27]) if cols[27] else None,\n",
    "            int(cols[28]) if cols[28] else None\n",
    "         ))             \n",
    ")\n",
    "    \n",
    "# create dataframe\n",
    "df = sqlContext.createDataFrame(cleaned_data_to_columns, airline_data_schema)\\\n",
    "    .select(['year', 'month', 'day_of_month', 'day_of_week',\n",
    "            'scheduled_departure_time','scheduled_arrival_time',\n",
    "            'arrival_delay', 'distance', \n",
    "            'src_airport', 'dest_airport', 'carrier'])\\\n",
    "    .cache()"
   ]
  },
  {
   "cell_type": "markdown",
   "metadata": {},
   "source": [
    "### Examples\n",
    "\n",
    "Using the contructed DataFrame, we can answer some simple questions:\n",
    "\n",
    "<ul>\n",
    "<li>How many night flights do we have in our data?</li>\n",
    "<li>How many night flights per unique carrier?</li>\n",
    "</ul>\n",
    "\n",
    "<strong>NOTE:</strong> We define \"night\" to start at 6pm."
   ]
  },
  {
   "cell_type": "code",
   "execution_count": 8,
   "metadata": {
    "collapsed": true
   },
   "outputs": [
    {
     "data": {
      "text/plain": [
       "1078203"
      ]
     },
     "execution_count": 8,
     "metadata": {},
     "output_type": "execute_result"
    }
   ],
   "source": [
    "df[df.scheduled_departure_time > 1800].count()"
   ]
  },
  {
   "cell_type": "code",
   "execution_count": 9,
   "metadata": {
    "collapsed": true
   },
   "outputs": [
    {
     "data": {
      "text/plain": [
       "[Row(carrier='DL', count=208224),\n",
       " Row(carrier='US', count=170397),\n",
       " Row(carrier='AA', count=142832),\n",
       " Row(carrier='WN', count=124024),\n",
       " Row(carrier='UA', count=113640),\n",
       " Row(carrier='NW', count=100453),\n",
       " Row(carrier='CO', count=94501),\n",
       " Row(carrier='TW', count=54771),\n",
       " Row(carrier='HP', count=44351),\n",
       " Row(carrier='AS', count=25010)]"
      ]
     },
     "execution_count": 9,
     "metadata": {},
     "output_type": "execute_result"
    }
   ],
   "source": [
    "df[df.scheduled_departure_time > 1800].groupBy(df.carrier).count().orderBy('count', ascending=0).collect()"
   ]
  },
  {
   "cell_type": "markdown",
   "metadata": {},
   "source": [
    "# 3. Data exploration\n",
    "Next, we will go over a series of simple queries on our data, to perform exploration and compute statistics using the DataFrame API and SparkSQL. These queries directly map to the questions you need to answer. \n",
    "\n",
    "**NOTE:** finding the right question to ask is difficult! Don't be afraid to complement the questions below, with your own questions that, in your opinion, are valuable ways to inspect data. This can give you extra points!\n",
    "\n",
    "- Basic queries:\n",
    "  - How many unique origin airports?\n",
    "  - How many unique destination airports?\n",
    "  - How many carriers?\n",
    "  - How many flights that have a scheduled departure time later than 18h00?\n",
    "\n",
    "\n",
    "- Statistics on flight volume: this kind of statistics are helpful to reason about delays. Indeed, it is plausible to assume that \"*the more flights in an airport, the higher the probability of delay*\".\n",
    "  - How many flights in each month of the year?\n",
    "  - Is there any relationship between the number of flights and the days of week?\n",
    "  - How many flights in different days of months and in different hours of days?\n",
    "  - Which are the top 20 busiest airports (this depends on inbound and outbound traffic)?\n",
    "  - Which are the top 20 busiest carriers?\n",
    "\n",
    "\n",
    "- Statistics on the fraction of delayed flights\n",
    "  - What is the percentage of delayed flights (over total flights) for different hours of the day?\n",
    "  - Which hours of the day are characterized by the longest flight delay?\n",
    "  - What are the fluctuation of the percentage of delayed flights over different time granularities?\n",
    "  - What is the percentage of delayed flights which depart from one of the top 20 busiest airports?\n",
    "  - What is the percentage of delayed flights which belong to one of the top 20 busiest carriers?"
   ]
  },
  {
   "cell_type": "markdown",
   "metadata": {},
   "source": [
    "## Question 2: Basic queries\n",
    "\n",
    "### Question 2.1\n",
    "<div class=\"alert alert-info\">\n",
    "\n",
    "How many origin airports? How many destination airports? Discuss the results, indicating any discrepancies or strange facts about the data.\n",
    "\n",
    "\n",
    "</div>"
   ]
  },
  {
   "cell_type": "code",
   "execution_count": 10,
   "metadata": {},
   "outputs": [
    {
     "name": "stdout",
     "output_type": "stream",
     "text": [
      "Number of distinct origin airports :  224\n",
      "Number of distinct destination airports :  225\n"
     ]
    }
   ],
   "source": [
    "print(\"Number of distinct origin airports : \", df.select('src_airport').distinct().count())\n",
    "print(\"Number of distinct destination airports : \", df.select('dest_airport').distinct().count())"
   ]
  },
  {
   "cell_type": "markdown",
   "metadata": {},
   "source": [
    "COMMENT:\n",
    "\n",
    "We find that there are 224 origin airports and 225 destination airports. So it means that one airport has only arrivals which seems to be very strange for an airport (how do people if they want to leave the airport?). There is maybe an error in data given."
   ]
  },
  {
   "cell_type": "markdown",
   "metadata": {},
   "source": [
    "### Question 2.2\n",
    "\n",
    "<div class=\"alert alert-info\">\n",
    "How many unique carriers are present in the data?\n",
    "</div>"
   ]
  },
  {
   "cell_type": "code",
   "execution_count": 12,
   "metadata": {},
   "outputs": [
    {
     "name": "stdout",
     "output_type": "stream",
     "text": [
      "Number of distinct carriers :  10\n"
     ]
    }
   ],
   "source": [
    "print(\"Number of distinct carriers : \", df.select('carrier').distinct().count())"
   ]
  },
  {
   "cell_type": "markdown",
   "metadata": {},
   "source": [
    "### Question 2.3\n",
    "\n",
    "<div class=\"alert alert-info\">\n",
    "<ul>\n",
    "<li>How many night flights (that is, flights departing later than 6pm or earlier than 6am)?</li>\n",
    "<li>What is the percentage of night flights over the total volume of flights</li>\n",
    "</ul>\n",
    "\n",
    "<br>\n",
    "<br>\n",
    "<strong>NOTE:</strong> Here we're using a more refined definition of what is a night flight, than in our earlier examples.\n",
    "\n",
    "</div>"
   ]
  },
  {
   "cell_type": "code",
   "execution_count": 13,
   "metadata": {},
   "outputs": [
    {
     "name": "stdout",
     "output_type": "stream",
     "text": [
      "Number of flights departing earlier than 6am : 1078203\n",
      "Number of flights departing later than 6pm : 43715\n",
      "The number of night flights is the total : 1121918\n",
      "\n",
      "Total number of flights : 5180048\n",
      "\n",
      "Percentage of night flights over the total volume of flights : 21.66 %\n"
     ]
    }
   ],
   "source": [
    "print(\"Number of flights departing earlier than 6am :\", df[df.scheduled_departure_time > 1800].count())\n",
    "print(\"Number of flights departing later than 6pm :\", df[df.scheduled_departure_time < 600].count())\n",
    "\n",
    "number_of_night_flights = df[df.scheduled_departure_time > 1800].count() + df[df.scheduled_departure_time < 600].count()\n",
    "print(\"The number of night flights is the total :\", number_of_night_flights)\n",
    "print(\"\\nTotal number of flights :\", df.count())\n",
    "print(\"\\nPercentage of night flights over the total volume of flights :\", np.round(100*number_of_night_flights/df.count(), 2), \"%\")"
   ]
  },
  {
   "cell_type": "markdown",
   "metadata": {},
   "source": [
    "## Question 3: Flight volume statistics\n",
    "\n",
    "### Question 3.1: \n",
    "\n",
    "<div class=\"alert alert-info\">\n",
    "How many flights in each month of the year? Plot the changes over months by a line chart and comment the figure.\n",
    "<br>\n",
    "\n",
    "<br>\n",
    "From the result, we can learn the dynamics of flight volume over months. For example, if we only consider flights in 1994 (to start, it's always better to focus on smaller amount of data), we can discuss about which months are most likely to have flights experiencing delays.\n",
    "\n",
    "</div>\n"
   ]
  },
  {
   "cell_type": "code",
   "execution_count": 15,
   "metadata": {},
   "outputs": [
    {
     "data": {
      "image/png": "[encoded data removed]",
      "text/plain": [
       "<Figure size 1008x648 with 1 Axes>"
      ]
     },
     "metadata": {},
     "output_type": "display_data"
    }
   ],
   "source": [
    "list_months = ['January', 'February', 'March', 'April', 'May', 'June', 'July', 'August', 'September', 'October', 'November', 'December']\n",
    "\n",
    "df.groupBy(df.month).count().toPandas().set_index(['month']).sort_index().plot.line()\n",
    "plt.title('Flights per month')\n",
    "plt.xticks(np.arange(12), list_months)\n",
    "plt.rcParams[\"figure.figsize\"]= (14,9)\n",
    "plt.show()"
   ]
  },
  {
   "cell_type": "markdown",
   "metadata": {},
   "source": [
    "COMMENT:\n",
    "\n",
    "We can observ that:\n",
    "- the number of flights is increasing during summertime and Christmas Holidays as expected\n",
    "- the month with the less number of flights is February which is correlated to the number of days of February (indeed February is the month with the less number of days)\n",
    "- there are more flights during the second part of July, starting from July"
   ]
  },
  {
   "cell_type": "markdown",
   "metadata": {},
   "source": [
    "### Question 3.2: \n",
    "\n",
    "<div class=\"alert alert-info\">\n",
    "Is there any relationship between the number of flights and the days of the week?  \n",
    "\n",
    "Plot a bar chart and interpret the figure.\n",
    "\n",
    "\n",
    "<br>\n",
    "<br>\n",
    "<strong>NOTE:</strong> You should study both global aggregates (irrespectively of the month of the year), and monthly aggregates (day statistics, for each different month of the year).\n",
    "\n",
    "<br>\n",
    "<br>\n",
    "By answering this question, we could learn about the importance of the weekend/weekday feature for our predictive task.\n",
    "</div>"
   ]
  },
  {
   "cell_type": "code",
   "execution_count": 16,
   "metadata": {},
   "outputs": [
    {
     "name": "stdout",
     "output_type": "stream",
     "text": [
      "+-----------+------+\n",
      "|day_of_week| count|\n",
      "+-----------+------+\n",
      "|          1|754636|\n",
      "|          2|756532|\n",
      "|          3|756864|\n",
      "|          4|751537|\n",
      "|          5|751531|\n",
      "|          6|695245|\n",
      "|          7|713703|\n",
      "+-----------+------+\n",
      "\n",
      "DataFrame[day_of_week: int, count: bigint]\n"
     ]
    },
    {
     "data": {
      "image/png": "[encoded data removed]",
      "text/plain": [
       "<Figure size 1008x648 with 1 Axes>"
      ]
     },
     "metadata": {},
     "output_type": "display_data"
    },
    {
     "name": "stdout",
     "output_type": "stream",
     "text": [
      "+-----+-----------+-----+\n",
      "|month|day_of_week|count|\n",
      "+-----+-----------+-----+\n",
      "|    1|          1|70761|\n",
      "|    1|          2|56327|\n",
      "|    1|          3|55944|\n",
      "|    1|          4|55870|\n",
      "|    1|          5|56041|\n",
      "|    1|          6|62488|\n",
      "|    1|          7|66430|\n",
      "|    2|          1|56645|\n",
      "|    2|          2|56549|\n",
      "|    2|          3|56460|\n",
      "|    2|          4|56421|\n",
      "|    2|          5|56823|\n",
      "|    2|          6|50611|\n",
      "|    2|          7|53445|\n",
      "|    3|          1|57356|\n",
      "|    3|          2|71424|\n",
      "|    3|          3|71900|\n",
      "|    3|          4|71942|\n",
      "|    3|          5|57400|\n",
      "|    3|          6|51347|\n",
      "+-----+-----------+-----+\n",
      "only showing top 20 rows\n",
      "\n"
     ]
    },
    {
     "data": {
      "image/png": "[encoded data removed]",
      "text/plain": [
       "<Figure size 1008x648 with 1 Axes>"
      ]
     },
     "metadata": {},
     "output_type": "display_data"
    }
   ],
   "source": [
    "list_days = ['Monday', 'Tuesday', 'Wednesday', 'Thursday', 'Friday', 'Saturday', 'Sunday']\n",
    "\n",
    "# Firstly we study global statistics\n",
    "\n",
    "day_flights_global = df.groupBy(df.day_of_week).count().orderBy(df.day_of_week)\n",
    "day_flights_global.show()\n",
    "print(day_flights_global)\n",
    "df.groupBy(df.day_of_week).count().toPandas().set_index(['day_of_week']).sort_index().plot.bar()\n",
    "plt.xticks(np.arange(7), list_days)\n",
    "plt.show()\n",
    "\n",
    "# Then, we study monthly statistics.\n",
    "\n",
    "day_flights_monthly = df.groupBy(df.month, df.day_of_week).count().orderBy(df.month, df.day_of_week).show() # Here I show the data\n",
    "day_flights_monthly_data = df.groupBy(df.month, df.day_of_week).count().orderBy(df.month, df.day_of_week).collect() \n",
    "    # Here I collect the data to deal with it\n",
    "\n",
    "\n",
    "for i in range(7):\n",
    "    graph = []\n",
    "    for j in range(12):\n",
    "        graph.append(day_flights_monthly_data[i+j*7][2])\n",
    "    plt.bar([p + 0.1*i for p in list(range(12))], graph, 0.1)\n",
    "plt.rcParams[\"figure.figsize\"]= (17,9)\n",
    "plt.xticks(np.arange(12), list_months)\n",
    "plt.show()"
   ]
  },
  {
   "cell_type": "markdown",
   "metadata": {},
   "source": [
    "COMMENT:\n",
    "\n",
    "In the first graph, we computed the global data. In the second plot, we displayd monthly statistics.\n",
    "For the global statistics, we can observ that the days with the less number of flights are Saturday and Sunday, i.e the weekend.\n",
    "The monthly statitics confirm that unless an exception. Indeed, in July, there are more flights during the weekend than during the beginning of the week."
   ]
  },
  {
   "cell_type": "markdown",
   "metadata": {},
   "source": [
    "### Question 3.3\n",
    "\n",
    "<div class=\"alert alert-info\">\n",
    "How many flights in different days of months and in different hours of days?  \n",
    "<br><br>\n",
    "\n",
    "\n",
    "<strong>NOTE:</strong> Similarly to the previous note, you need to compute both global statistcs and monthly statistics.\n",
    "\n",
    "<br>\n",
    "<br>\n",
    "Plot  bar charts, and interpret your figures.\n",
    "</div>"
   ]
  },
  {
   "cell_type": "code",
   "execution_count": 17,
   "metadata": {},
   "outputs": [
    {
     "name": "stdout",
     "output_type": "stream",
     "text": [
      "+------------+------+\n",
      "|day_of_month| count|\n",
      "+------------+------+\n",
      "|           1|169674|\n",
      "|           2|169829|\n",
      "|           3|168678|\n",
      "|           4|169399|\n",
      "|           5|168423|\n",
      "|           6|170650|\n",
      "|           7|172210|\n",
      "|           8|170674|\n",
      "|           9|170077|\n",
      "|          10|170252|\n",
      "|          11|172362|\n",
      "|          12|169542|\n",
      "|          13|171230|\n",
      "|          14|172081|\n",
      "|          15|170737|\n",
      "|          16|169985|\n",
      "|          17|170132|\n",
      "|          18|171868|\n",
      "|          19|169483|\n",
      "|          20|171142|\n",
      "+------------+------+\n",
      "only showing top 20 rows\n",
      "\n"
     ]
    },
    {
     "data": {
      "image/png": "[encoded data removed]",
      "text/plain": [
       "<Figure size 1224x648 with 1 Axes>"
      ]
     },
     "metadata": {},
     "output_type": "display_data"
    },
    {
     "name": "stdout",
     "output_type": "stream",
     "text": [
      "+------------+-----+-----+\n",
      "|day_of_month|month|count|\n",
      "+------------+-----+-----+\n",
      "|           1|    1|12158|\n",
      "|           1|    2|14085|\n",
      "|           1|    3|14092|\n",
      "|           1|    4|14531|\n",
      "|           1|    5|13606|\n",
      "|           1|    6|14565|\n",
      "|           1|    7|14544|\n",
      "|           1|    8|14732|\n",
      "|           1|    9|14793|\n",
      "|           1|   10|13333|\n",
      "|           1|   11|14725|\n",
      "|           1|   12|14510|\n",
      "|           2|    1|13579|\n",
      "|           2|    2|14167|\n",
      "|           2|    3|14218|\n",
      "|           2|    4|12836|\n",
      "|           2|    5|14395|\n",
      "|           2|    6|14412|\n",
      "|           2|    7|13090|\n",
      "|           2|    8|14699|\n",
      "+------------+-----+-----+\n",
      "only showing top 20 rows\n",
      "\n"
     ]
    },
    {
     "data": {
      "image/png": "[encoded data removed]",
      "text/plain": [
       "<Figure size 1224x648 with 12 Axes>"
      ]
     },
     "metadata": {},
     "output_type": "display_data"
    }
   ],
   "source": [
    "# 1. Let's work with the days of months\n",
    "\n",
    "# Global statistics\n",
    "\n",
    "days_months_global = df.groupBy(df.day_of_month).count().orderBy(df.day_of_month).show()\n",
    "df.groupby(df.day_of_month).count().toPandas().set_index([\"day_of_month\"]).sort_index().plot.bar()\n",
    "plt.show()\n",
    "\n",
    "# Monthly statistics\n",
    "\n",
    "days_months_monthly = df.groupBy(df.day_of_month, df.month).count().orderBy(df.day_of_month, df.month)\n",
    "days_months_monthly.show()\n",
    "\n",
    "for i in range(1,13):\n",
    "    plt.subplot(5,5,i) # I create 12 subplots there, for each month\n",
    "    days_months_monthly_data = days_months_monthly[df.month==i].select('count').collect()\n",
    "    plt.bar([x for x in range(len(days_months_monthly_data))], [x[0] for x in days_months_monthly_data])\n",
    "    plt.title(list_months[i-1])\n",
    "plt.show()"
   ]
  },
  {
   "cell_type": "markdown",
   "metadata": {},
   "source": [
    "COMMENT:\n",
    "\n",
    "Firstly we computed the global statistics. For the monthly statistics, we chose to display it for each month because it is impossible to display 365 bars in the same plot.\n",
    "\n",
    "For the global statistics, we can observ that:\n",
    "- the day 31 has the half of flights compared to the other days. It is logical because only 7 months of the year have that day\n",
    "- there are less flights during the days 29 and 30\n",
    "\n",
    "For the monthly statistics, we remark that:\n",
    "- the 24,25, 26 and 31 December there are less flights than the rest of the month\n",
    "- the 23 and 24 November there are less flights than the rest of the month\n",
    "This is logical, because it is during holidays (Christmas).\n",
    "\n",
    "In the monthly statistics, we can also see that the day 31 has no less flights than the other days. So in the global statistics, the day 31 has less flights than the other days only because there are only 7 months that have the day 31."
   ]
  },
  {
   "cell_type": "code",
   "execution_count": 18,
   "metadata": {},
   "outputs": [
    {
     "name": "stdout",
     "output_type": "stream",
     "text": [
      "+----+------+\n",
      "|Hour| count|\n",
      "+----+------+\n",
      "|   0| 13641|\n",
      "|   1| 12825|\n",
      "|   2|  2842|\n",
      "|   3|   564|\n",
      "|   4|   486|\n",
      "|   5| 13357|\n",
      "|   6|257486|\n",
      "|   7|398796|\n",
      "|   8|397060|\n",
      "|   9|341597|\n",
      "|  10|300375|\n",
      "|  11|313577|\n",
      "|  12|356830|\n",
      "|  13|360762|\n",
      "|  14|294214|\n",
      "|  15|313131|\n",
      "|  16|317809|\n",
      "|  17|368695|\n",
      "|  18|338147|\n",
      "|  19|287033|\n",
      "+----+------+\n",
      "only showing top 20 rows\n",
      "\n"
     ]
    },
    {
     "data": {
      "image/png": "[encoded data removed]",
      "text/plain": [
       "<Figure size 1224x648 with 1 Axes>"
      ]
     },
     "metadata": {},
     "output_type": "display_data"
    },
    {
     "name": "stdout",
     "output_type": "stream",
     "text": [
      "+----+-----+-----+\n",
      "|Hour|month|count|\n",
      "+----+-----+-----+\n",
      "|   0|    1| 1153|\n",
      "|   0|    2| 1051|\n",
      "|   0|    3| 1275|\n",
      "|   0|    4| 1100|\n",
      "|   0|    5| 1143|\n",
      "|   0|    6| 1103|\n",
      "|   0|    7| 1145|\n",
      "|   0|    8| 1155|\n",
      "|   0|    9| 1013|\n",
      "|   0|   10| 1043|\n",
      "|   0|   11| 1196|\n",
      "|   0|   12| 1264|\n",
      "|   1|    1|  901|\n",
      "|   1|    2|  806|\n",
      "|   1|    3|  905|\n",
      "|   1|    4|  964|\n",
      "|   1|    5|  998|\n",
      "|   1|    6| 1197|\n",
      "|   1|    7| 1340|\n",
      "|   1|    8| 1334|\n",
      "+----+-----+-----+\n",
      "only showing top 20 rows\n",
      "\n"
     ]
    },
    {
     "data": {
      "image/png": "[encoded data removed]",
      "text/plain": [
       "<Figure size 1224x648 with 12 Axes>"
      ]
     },
     "metadata": {},
     "output_type": "display_data"
    }
   ],
   "source": [
    "# 2. Let's work with the hours of the days\n",
    "\n",
    "# Firstly, I have to create the column \"Hour\"\n",
    "\n",
    "from pyspark.sql.functions import UserDefinedFunction\n",
    "from pyspark.sql.types import IntegerType\n",
    "\n",
    "#convertTimetoHour = UserDefinedFunction(lamba x: x//100, IntegerType())\n",
    "df_hours = df.withColumn('Hour', ((df.scheduled_departure_time)/100).cast('int'))\n",
    "\n",
    "# Global statistics\n",
    "\n",
    "hours_global = df_hours.groupBy('Hour').count().orderBy('Hour').show()\n",
    "df_hours.groupby('Hour').count().toPandas().set_index('Hour').sort_index().plot.bar()\n",
    "plt.show()\n",
    "\n",
    "# Monthly statistics\n",
    "\n",
    "hours_monthly = df_hours.groupBy('Hour', df.month).count().orderBy('Hour', df.month)\n",
    "hours_monthly.show()\n",
    "\n",
    "for i in range(1,13):\n",
    "    plt.subplot(5,5,i) # I create 12 subplots there, for each month\n",
    "    hours_monthly_data = hours_monthly[df.month==i].select('count').collect()\n",
    "    plt.bar([x for x in range(len(hours_monthly_data))], [x[0] for x in hours_monthly_data])\n",
    "    plt.title(list_months[i-1])\n",
    "plt.show()"
   ]
  },
  {
   "cell_type": "markdown",
   "metadata": {},
   "source": [
    "COMMENT:\n",
    "\n",
    "Here again, we computed both data, global and monthly. \n",
    "No difference is visible there between the two datas: indeed for both data, we can observ that there a less flights during the night than during the rest of the day."
   ]
  },
  {
   "cell_type": "markdown",
   "metadata": {},
   "source": [
    "### Question 3.4\n",
    "\n",
    "<div class=\"alert alert-info\">\n",
    "Which are the **top 20** busiest airports? Compute this in terms of the inbound, outbound and total number of flights.\n",
    "</div>"
   ]
  },
  {
   "cell_type": "code",
   "execution_count": 19,
   "metadata": {},
   "outputs": [
    {
     "name": "stdout",
     "output_type": "stream",
     "text": [
      "*** Top 20 busiest airports in terms of the number of outbound flights ***\n",
      "\n",
      "+-----------+--------------+\n",
      "|src_airport|outbound_count|\n",
      "+-----------+--------------+\n",
      "|        ORD|        277741|\n",
      "|        DFW|        256274|\n",
      "|        ATL|        221486|\n",
      "|        LAX|        153494|\n",
      "|        STL|        151609|\n",
      "|        DEN|        141427|\n",
      "|        PHX|        139581|\n",
      "|        DTW|        136837|\n",
      "|        PIT|        130977|\n",
      "|        CLT|        129391|\n",
      "|        MSP|        123222|\n",
      "|        SFO|        118233|\n",
      "|        EWR|        116768|\n",
      "|        IAH|        104182|\n",
      "|        LGA|        101864|\n",
      "|        BOS|        100365|\n",
      "|        LAS|         94972|\n",
      "|        PHL|         93585|\n",
      "|        DCA|         88445|\n",
      "|        MCO|         77120|\n",
      "+-----------+--------------+\n",
      "\n",
      "*** Top 20 busiest airports in terms of the number of inbound flights ***\n",
      "\n",
      "+------------+-------------+\n",
      "|dest_airport|inbound_count|\n",
      "+------------+-------------+\n",
      "|         ORD|       283720|\n",
      "|         DFW|       260249|\n",
      "|         ATL|       221588|\n",
      "|         LAX|       152959|\n",
      "|         STL|       152800|\n",
      "|         DEN|       144099|\n",
      "|         PHX|       140979|\n",
      "|         DTW|       139435|\n",
      "|         PIT|       131962|\n",
      "|         CLT|       130321|\n",
      "|         MSP|       124758|\n",
      "|         SFO|       117245|\n",
      "|         EWR|       117223|\n",
      "|         IAH|       104409|\n",
      "|         LGA|       101498|\n",
      "|         BOS|        99331|\n",
      "|         LAS|        94948|\n",
      "|         PHL|        93312|\n",
      "|         DCA|        87670|\n",
      "|         MCO|        76600|\n",
      "+------------+-------------+\n",
      "\n",
      "*** Top 20 busiest airports in terms of the total number of flights ***\n",
      "\n",
      "+-------+-----------------------+\n",
      "|airport|Total number of flights|\n",
      "+-------+-----------------------+\n",
      "|    ORD|                 561461|\n",
      "|    DFW|                 516523|\n",
      "|    ATL|                 443074|\n",
      "|    LAX|                 306453|\n",
      "|    STL|                 304409|\n",
      "|    DEN|                 285526|\n",
      "|    PHX|                 280560|\n",
      "|    DTW|                 276272|\n",
      "|    PIT|                 262939|\n",
      "|    CLT|                 259712|\n",
      "|    MSP|                 247980|\n",
      "|    SFO|                 235478|\n",
      "|    EWR|                 233991|\n",
      "|    IAH|                 208591|\n",
      "|    LGA|                 203362|\n",
      "|    BOS|                 199696|\n",
      "|    LAS|                 189920|\n",
      "|    PHL|                 186897|\n",
      "|    DCA|                 176115|\n",
      "|    MCO|                 153720|\n",
      "+-------+-----------------------+\n",
      "\n"
     ]
    }
   ],
   "source": [
    "df1 = df.groupBy('src_airport').count().orderBy('count', ascending=0)\n",
    "df1 = df1.withColumnRenamed('count', 'outbound_count').limit(20)\n",
    "df2 = df.groupBy('dest_airport').count().orderBy('count', ascending=0)\n",
    "df2 = df2.withColumnRenamed('count', 'inbound_count').limit(20)\n",
    "\n",
    "print(\"*** Top 20 busiest airports in terms of the number of outbound flights ***\\n\")\n",
    "df1.show()\n",
    "\n",
    "print(\"*** Top 20 busiest airports in terms of the number of inbound flights ***\\n\")\n",
    "df2.show()\n",
    "\n",
    "df3 = df1.join(df2, df1.src_airport==df2.dest_airport)\n",
    "df3 = df3.select('src_airport', 'inbound_count', 'outbound_count').withColumnRenamed('src_airport', 'airport')\n",
    "#df3.show()\n",
    "\n",
    "\n",
    "df3 = df3.withColumn(\"Total number of flights\", df3.inbound_count + df3.outbound_count).select('airport', 'Total number of flights')\n",
    "df3 = df3.orderBy('Total number of flights', ascending=0).limit(20)\n",
    "print(\"*** Top 20 busiest airports in terms of the total number of flights ***\\n\")\n",
    "df3.show()"
   ]
  },
  {
   "cell_type": "markdown",
   "metadata": {},
   "source": [
    "### Question 3.5\n",
    "<div class=\"alert alert-info\">\n",
    "Which are the **top 20** busiest carriers? Compute this in terms of number of flights.\n",
    "</div>\n"
   ]
  },
  {
   "cell_type": "code",
   "execution_count": 20,
   "metadata": {},
   "outputs": [
    {
     "name": "stdout",
     "output_type": "stream",
     "text": [
      "*** Top 20 busiest carriers ***\n",
      "\n",
      "+-------+------+\n",
      "|carrier| count|\n",
      "+-------+------+\n",
      "|     DL|874526|\n",
      "|     US|857906|\n",
      "|     AA|722277|\n",
      "|     UA|638750|\n",
      "|     WN|565426|\n",
      "|     CO|484834|\n",
      "|     NW|482798|\n",
      "|     TW|258205|\n",
      "|     HP|177851|\n",
      "|     AS|117475|\n",
      "+-------+------+\n",
      "\n"
     ]
    }
   ],
   "source": [
    "print(\"*** Top 20 busiest carriers ***\\n\")\n",
    "df.groupBy('carrier').count().orderBy('count', ascending=0).limit(20).show()"
   ]
  },
  {
   "cell_type": "markdown",
   "metadata": {},
   "source": [
    "## Question 4 \n",
    "In this series of questions we focus on the computation of statistics about the percentage of delayed flights.\n",
    "\n",
    "### Question 4.1\n",
    "<div class=\"alert alert-info\">\n",
    "What is the percentage of delayed flights for different hours of the day?  \n",
    "\n",
    "Plot a bar chart and interpret the figure.\n",
    "    \n",
    "\n",
    "<br><br>\n",
    "\n",
    "\n",
    "<div class=\"label label-success\">IMPORTANT!</div> A flight is considered as delayed if it's actual arrival time is more than 15 minutes later than the scheduled arrival time.\n",
    "\n",
    "</div>"
   ]
  },
  {
   "cell_type": "code",
   "execution_count": 21,
   "metadata": {},
   "outputs": [
    {
     "name": "stdout",
     "output_type": "stream",
     "text": [
      "\n",
      "*** Percentage of delayed flights per hour ***\n",
      "\n",
      "+------------------------+-----------------------------+\n",
      "|scheduled_departure_hour|percentage_of_delayed_flights|\n",
      "+------------------------+-----------------------------+\n",
      "|                       0|                         17.1|\n",
      "|                       1|                        14.84|\n",
      "|                       2|                         5.35|\n",
      "|                       3|                          1.6|\n",
      "|                       4|                         5.14|\n",
      "|                       5|                         6.09|\n",
      "|                       6|                         8.07|\n",
      "|                       7|                        10.56|\n",
      "|                       8|                        13.35|\n",
      "|                       9|                        14.68|\n",
      "|                      10|                        13.55|\n",
      "|                      11|                        14.78|\n",
      "|                      12|                        15.78|\n",
      "|                      13|                        16.82|\n",
      "|                      14|                        17.26|\n",
      "|                      15|                        19.97|\n",
      "|                      16|                        20.66|\n",
      "|                      17|                        22.95|\n",
      "|                      18|                         22.3|\n",
      "|                      19|                        23.27|\n",
      "+------------------------+-----------------------------+\n",
      "only showing top 20 rows\n",
      "\n"
     ]
    },
    {
     "data": {
      "text/plain": [
       "<matplotlib.axes._subplots.AxesSubplot at 0x7f020cee40f0>"
      ]
     },
     "execution_count": 21,
     "metadata": {},
     "output_type": "execute_result"
    },
    {
     "data": {
      "image/png": "[encoded data removed]",
      "text/plain": [
       "<Figure size 1224x648 with 1 Axes>"
      ]
     },
     "metadata": {},
     "output_type": "display_data"
    }
   ],
   "source": [
    "df1 = df.select('scheduled_departure_time', 'arrival_delay')\n",
    "df1 = df1.withColumn('scheduled_departure_hour', (df1.scheduled_departure_time/100).cast('integer'))\n",
    "df1 = df1.groupBy('scheduled_departure_hour').count().orderBy('scheduled_departure_hour', ascending=1)\n",
    "df1 = df1.withColumnRenamed('count', 'total_number_of_flights')\n",
    "#print(\"\\n*** Total number of flights per hour of departure in the day ***\\n\")\n",
    "#df1.show()\n",
    "\n",
    "df2 = df.select('scheduled_departure_time', 'arrival_delay')[df.arrival_delay>=15]\n",
    "df2 = df2.withColumn('scheduled_departure_hour', (df2.scheduled_departure_time/100).cast('integer'))\n",
    "df2 = df2.groupBy('scheduled_departure_hour').count().orderBy('scheduled_departure_hour', ascending=1)\n",
    "df2 = df2.withColumnRenamed('count', 'number_of_delayed_flights')\n",
    "#print(\"\\n*** Delayed flights only ***\\n\")\n",
    "#df2.show()\n",
    "\n",
    "df2 = df2.withColumnRenamed('scheduled_departure_hour', 'scheduled_departure_hour2')\n",
    "df3 = df1.join(df2, df1.scheduled_departure_hour==df2.scheduled_departure_hour2).select('scheduled_departure_hour', 'total_number_of_flights', 'number_of_delayed_flights')\n",
    "df3 = df3.orderBy('scheduled_departure_hour', ascending=1)\n",
    "df3 = df3.withColumn('percentage_of_delayed_flights', round(100*df3.number_of_delayed_flights/df3.total_number_of_flights, 2))\n",
    "df3 = df3.select('scheduled_departure_hour', 'percentage_of_delayed_flights')\n",
    "print(\"\\n*** Percentage of delayed flights per hour ***\\n\")\n",
    "df3.show()\n",
    "\n",
    "## plot the bar chart\n",
    "df3.toPandas().plot.bar(x='scheduled_departure_hour', y='percentage_of_delayed_flights')\n"
   ]
  },
  {
   "cell_type": "markdown",
   "metadata": {},
   "source": [
    "COMMENT:\n",
    "\n",
    "According to the plot, there are less delays during the night than during the day. Indeed, the less percentage of flights delays is between 2 A.M and 5 A.M. This is logical, because we have seen before that during the night there are less flights than during the rest of the journey."
   ]
  },
  {
   "cell_type": "markdown",
   "metadata": {},
   "source": [
    "### Question 4.2\n",
    "<div class=\"alert alert-info\">\n",
    "You will realize that saying *\"at 4 A.M. there is a very low chance of a flight being delayed\"* is not giving you a full picture of the situation. Indeed, it might be true that there is very little probability for an early flight to be delayed, but if it does, the delay might be huge, like 6 hours!  \n",
    "\n",
    "<ul></ul>\n",
    "\n",
    "Then, the question is: **which hours of the day are characterized by the largest mean delay?** (you can consider the median too)  \n",
    "\n",
    "Plot a Bar chart and explain it.\n",
    "\n",
    "\n",
    "</div>"
   ]
  },
  {
   "cell_type": "code",
   "execution_count": 22,
   "metadata": {},
   "outputs": [
    {
     "name": "stdout",
     "output_type": "stream",
     "text": [
      "\n",
      "*** Average delay per hour of the day ***\n",
      "\n",
      "+------------------------+-------------------+\n",
      "|scheduled_departure_hour|mean_delay_per_hour|\n",
      "+------------------------+-------------------+\n",
      "|                       0|                4.6|\n",
      "|                       1|                2.7|\n",
      "|                       2|               -2.8|\n",
      "|                       3|               -2.8|\n",
      "|                       4|                0.3|\n",
      "|                       5|                0.3|\n",
      "|                       6|                0.6|\n",
      "|                       7|                1.7|\n",
      "|                       8|                2.8|\n",
      "|                       9|                3.4|\n",
      "|                      10|                3.4|\n",
      "|                      11|                4.1|\n",
      "|                      12|                4.5|\n",
      "|                      13|                5.2|\n",
      "|                      14|                5.9|\n",
      "|                      15|                7.6|\n",
      "|                      16|                8.2|\n",
      "|                      17|                9.5|\n",
      "|                      18|                9.4|\n",
      "|                      19|               10.0|\n",
      "+------------------------+-------------------+\n",
      "only showing top 20 rows\n",
      "\n"
     ]
    },
    {
     "data": {
      "text/plain": [
       "<matplotlib.axes._subplots.AxesSubplot at 0x7f020cdff4e0>"
      ]
     },
     "execution_count": 22,
     "metadata": {},
     "output_type": "execute_result"
    },
    {
     "data": {
      "image/png": "[encoded data removed]",
      "text/plain": [
       "<Figure size 1224x648 with 1 Axes>"
      ]
     },
     "metadata": {},
     "output_type": "display_data"
    }
   ],
   "source": [
    "df1 = df.select('scheduled_departure_time', 'arrival_delay')\n",
    "df1 = df1.withColumn('scheduled_departure_hour', (df1.scheduled_departure_time/100).cast('integer')).select('scheduled_departure_hour', 'arrival_delay')\n",
    "df1 = df1.groupBy('scheduled_departure_hour').avg('arrival_delay').orderBy('scheduled_departure_hour', ascending=1)\n",
    "df1 = df1.withColumnRenamed('avg(arrival_delay)', 'mean_delay_per_hour_not_round')\n",
    "df1 = df1.withColumn('mean_delay_per_hour', round(df1.mean_delay_per_hour_not_round, 1)).select('scheduled_departure_hour', 'mean_delay_per_hour')\n",
    "\n",
    "print(\"\\n*** Average delay per hour of the day ***\\n\")\n",
    "df1.show()\n",
    "\n",
    "df1.toPandas().plot.bar(x='scheduled_departure_hour', y='mean_delay_per_hour')"
   ]
  },
  {
   "cell_type": "markdown",
   "metadata": {},
   "source": [
    "COMMENT:\n",
    "\n",
    "For 2 AM and 3 AM, the mean delay is negative which means that the plane landed earlier than predicted.\n",
    "As exepected, the hours with the highest delay are between 5 PM and 8 PM."
   ]
  },
  {
   "cell_type": "markdown",
   "metadata": {},
   "source": [
    "With data of year 1994, the flight from 3AM to 4AM often depart earlier than in their schedule. The flights in the morning have less delay then in the afternoon and evening.\n",
    "\n",
    "So, an attentive student should notice here that we have somehow a problem with the definition of delay! Next, we will improve how to represent and visualize data to overcome this problem.\n",
    "\n",
    "**NOTE**: the following piece of code assumes you correctly answered the previous questions. The naming convention of the DataFrames we use next should be clear enough for you to produce them by answering the questions above."
   ]
  },
  {
   "cell_type": "code",
   "execution_count": 23,
   "metadata": {
    "collapsed": true
   },
   "outputs": [
    {
     "data": {
      "image/png": "[encoded data removed]",
      "text/plain": [
       "<Figure size 1224x648 with 1 Axes>"
      ]
     },
     "metadata": {},
     "output_type": "display_data"
    }
   ],
   "source": [
    "#pdf2 = pd.DataFrame(data=mean_delay_per_hour.collect())\n",
    "# We will use this code line in order to construct pdf_delay and pdf_mean_delay\n",
    "df_delay = df_hours.withColumn('delay', func.when(df.arrival_delay >= 15, 1).otherwise(0)) \n",
    "        # we add one if there is a delay, 0 if not\n",
    "df_percentage_delay = df_delay.groupBy('hour').agg((100*func.sum('delay')/func.count('*')).alias('delay_ratio')).orderBy('hour')\n",
    "df_mean_delay = df_hours.groupBy('Hour').mean('arrival_delay')\n",
    "pdf_delay_ratio_per_hour = pd.DataFrame(data = df_percentage_delay.collect())\n",
    "pdf_mean_delay_per_hour = pd.DataFrame(data = df_mean_delay.collect())\n",
    "\n",
    "plt.xlabel(\"Hours\")\n",
    "plt.ylabel(\"Ratio of delay\")\n",
    "plt.title('Figure 6: The radio of delay over hours in day')\n",
    "plt.grid(True,which=\"both\",ls=\"-\")\n",
    "bars = plt.bar(pdf_delay_ratio_per_hour[0], pdf_delay_ratio_per_hour[1], align='center', edgecolor = \"black\")\n",
    "for i in range(0, len(bars)):\n",
    "    color = 'red'\n",
    "    if pdf_mean_delay_per_hour[1][i] < 0:\n",
    "        color = 'lightgreen'\n",
    "    elif pdf_mean_delay_per_hour[1][i] < 2:\n",
    "        color = 'green'\n",
    "    elif pdf_mean_delay_per_hour[1][i] < 4:\n",
    "        color = 'yellow'\n",
    "    elif pdf_mean_delay_per_hour[1][i] < 8:\n",
    "        color = 'orange'\n",
    "\n",
    "    bars[i].set_color(color)\n",
    "        \n",
    "patch1 = mpatches.Patch(color='lightgreen', label='Depart earlier')\n",
    "patch2 = mpatches.Patch(color='green', label='delay < 2 minutes')\n",
    "patch3 = mpatches.Patch(color='yellow', label='delay < 4 minutes')\n",
    "patch4 = mpatches.Patch(color='orange', label='delay < 8 minutes')\n",
    "patch5 = mpatches.Patch(color='red', label='delay >= 8 minutes')\n",
    "\n",
    "plt.legend(handles=[patch1, patch2, patch3, patch4, patch5], bbox_to_anchor=(1.05, 1), loc=2, borderaxespad=0.)\n",
    "plt.margins(0.05, 0)\n",
    "plt.show()"
   ]
  },
  {
   "cell_type": "markdown",
   "metadata": {},
   "source": [
    "In the new figure (Figure 6), we have more information in a single plot. The flights in 3AM to 4AM have very low probability of being delayed, and actually depart earlier than their schedule. In contrast, the flights in the 4PM to 8PM range have higher chances of being delayed: in more than 50% of the cases, the delay is 8 minutes or more.\n",
    "\n",
    "This example shows us that the way representing results are also important.\n"
   ]
  },
  {
   "cell_type": "markdown",
   "metadata": {},
   "source": [
    "### Question 4.3\n",
    "\n",
    "<div class=\"alert alert-info\">\n",
    "Plot a bar chart to show the percentage of delayed flights over days in a month. Discuss your findings from the figure.\n",
    "</div>"
   ]
  },
  {
   "cell_type": "code",
   "execution_count": 24,
   "metadata": {},
   "outputs": [
    {
     "name": "stdout",
     "output_type": "stream",
     "text": [
      "\n",
      "*** Percentage of delayed flights per day of month ***\n",
      "\n",
      "+------------+-----------------------------+\n",
      "|day_of_month|percentage_of_delayed_flights|\n",
      "+------------+-----------------------------+\n",
      "|           1|                        14.88|\n",
      "|           2|                        15.07|\n",
      "|           3|                        14.85|\n",
      "|           4|                        14.44|\n",
      "|           5|                        16.99|\n",
      "|           6|                        16.38|\n",
      "|           7|                        16.58|\n",
      "|           8|                        16.67|\n",
      "|           9|                        18.87|\n",
      "|          10|                        18.18|\n",
      "|          11|                        14.89|\n",
      "|          12|                        16.77|\n",
      "|          13|                        17.83|\n",
      "|          14|                        16.84|\n",
      "|          15|                        17.49|\n",
      "|          16|                        17.53|\n",
      "|          17|                         17.0|\n",
      "|          18|                        17.34|\n",
      "|          19|                        14.54|\n",
      "|          20|                        17.57|\n",
      "+------------+-----------------------------+\n",
      "only showing top 20 rows\n",
      "\n"
     ]
    },
    {
     "data": {
      "text/plain": [
       "<matplotlib.axes._subplots.AxesSubplot at 0x7f020cd2e080>"
      ]
     },
     "execution_count": 24,
     "metadata": {},
     "output_type": "execute_result"
    },
    {
     "data": {
      "image/png": "[encoded data removed]",
      "text/plain": [
       "<Figure size 1224x648 with 1 Axes>"
      ]
     },
     "metadata": {},
     "output_type": "display_data"
    }
   ],
   "source": [
    "df1 = df.select('day_of_month', 'arrival_delay')\n",
    "df1 = df1.groupBy('day_of_month').count().orderBy('day_of_month', ascending=1)\n",
    "df1 = df1.withColumnRenamed('count', 'total_number_of_flights')\n",
    "#print(\"\\n*** Total number of flights per day of month ***\\n\")\n",
    "#df1.show()\n",
    "\n",
    "df2 = df.select('day_of_month', 'arrival_delay')[df.arrival_delay>=15]\n",
    "df2 = df2.groupBy('day_of_month').count().orderBy('day_of_month', ascending=1)\n",
    "df2 = df2.withColumnRenamed('count', 'number_of_delayed_flights')\n",
    "#print(\"\\n*** Delayed flights only ***\\n\")\n",
    "#df2.show()\n",
    "\n",
    "df2 = df2.withColumnRenamed('day_of_month', 'day_of_month2')\n",
    "df3 = df1.join(df2, df1.day_of_month==df2.day_of_month2).select('day_of_month', 'total_number_of_flights', 'number_of_delayed_flights')\n",
    "df3 = df3.orderBy('day_of_month', ascending=1)\n",
    "df3 = df3.withColumn('percentage_of_delayed_flights', round(100*df3.number_of_delayed_flights/df3.total_number_of_flights, 2))\n",
    "df3 = df3.select('day_of_month', 'percentage_of_delayed_flights')\n",
    "print(\"\\n*** Percentage of delayed flights per day of month ***\\n\")\n",
    "df3.show()\n",
    "\n",
    "## plot the bar chart\n",
    "df3.toPandas().plot.bar(x='day_of_month', y='percentage_of_delayed_flights')\n",
    "\n"
   ]
  },
  {
   "cell_type": "markdown",
   "metadata": {},
   "source": [
    "COMMENT:\n",
    "\n",
    "According to the plot, we can observ that the delays over days in a month are comprised between 15% and 23%. The delays are the lowest for the days 4, 11, 19, 30 and 31 which doesn't give any particular information. "
   ]
  },
  {
   "cell_type": "markdown",
   "metadata": {},
   "source": [
    "### Question 4.4\n",
    "\n",
    "<div class=\"alert alert-info\">\n",
    "Plot a bar chart to show the percentage of delayed flights over days in a week. Discuss your findings from the figure.\n",
    "</div>"
   ]
  },
  {
   "cell_type": "code",
   "execution_count": 25,
   "metadata": {},
   "outputs": [
    {
     "name": "stdout",
     "output_type": "stream",
     "text": [
      "\n",
      "*** Percentage of delayed flights per day of week ***\n",
      "\n",
      "+-----------+-----------------------------+\n",
      "|day_of_week|percentage_of_delayed_flights|\n",
      "+-----------+-----------------------------+\n",
      "|          1|                        16.33|\n",
      "|          2|                        15.33|\n",
      "|          3|                        18.15|\n",
      "|          4|                        19.78|\n",
      "|          5|                        19.49|\n",
      "|          6|                        14.14|\n",
      "|          7|                        15.61|\n",
      "+-----------+-----------------------------+\n",
      "\n"
     ]
    },
    {
     "data": {
      "text/plain": [
       "<matplotlib.axes._subplots.AxesSubplot at 0x7f020cf2c160>"
      ]
     },
     "execution_count": 25,
     "metadata": {},
     "output_type": "execute_result"
    },
    {
     "data": {
      "image/png": "[encoded data removed]",
      "text/plain": [
       "<Figure size 1224x648 with 1 Axes>"
      ]
     },
     "metadata": {},
     "output_type": "display_data"
    }
   ],
   "source": [
    "df1 = df.select('day_of_week', 'arrival_delay')\n",
    "df1 = df1.groupBy('day_of_week').count().orderBy('day_of_week', ascending=1)\n",
    "df1 = df1.withColumnRenamed('count', 'total_number_of_flights')\n",
    "#print(\"\\n*** Total number of flights per day of week ***\\n\")\n",
    "#df1.show()\n",
    "\n",
    "df2 = df.select('day_of_week', 'arrival_delay')[df.arrival_delay>=15]\n",
    "df2 = df2.groupBy('day_of_week').count().orderBy('day_of_week', ascending=1)\n",
    "df2 = df2.withColumnRenamed('count', 'number_of_delayed_flights')\n",
    "#print(\"\\n*** Delayed flights only ***\\n\")\n",
    "#df2.show()\n",
    "\n",
    "df2 = df2.withColumnRenamed('day_of_week', 'day_of_week2')\n",
    "df3 = df1.join(df2, df1.day_of_week==df2.day_of_week2).select('day_of_week', 'total_number_of_flights', 'number_of_delayed_flights')\n",
    "df3 = df3.orderBy('day_of_week', ascending=1)\n",
    "df3 = df3.withColumn('percentage_of_delayed_flights', round(100*df3.number_of_delayed_flights/df3.total_number_of_flights, 2))\n",
    "df3 = df3.select('day_of_week', 'percentage_of_delayed_flights')\n",
    "print(\"\\n*** Percentage of delayed flights per day of week ***\\n\")\n",
    "df3.show()\n",
    "\n",
    "## plot the bar chart\n",
    "df3.toPandas().plot.bar(x='day_of_week', y='percentage_of_delayed_flights')"
   ]
  },
  {
   "cell_type": "markdown",
   "metadata": {},
   "source": [
    "COMMENT:\n",
    "\n",
    "The delay is lower during the weekend than during the rest of the week. We can see it by comparing delay of Thursday (20%) with delay of Saturday (14.5%). This is logical, because as we have seen before, there are less flights during the weekend than during the rest of the week."
   ]
  },
  {
   "cell_type": "markdown",
   "metadata": {},
   "source": [
    "### Question 4.5\n",
    "<div class=\"alert alert-info\">\n",
    "Plot a bar chart to show the percentage of delayed flights over months in a year. Discuss your findings from the figure.\n",
    "<br>\n",
    "</div>"
   ]
  },
  {
   "cell_type": "code",
   "execution_count": 26,
   "metadata": {},
   "outputs": [
    {
     "name": "stdout",
     "output_type": "stream",
     "text": [
      "\n",
      "*** Percentage of delayed flights per month ***\n",
      "\n",
      "+-----+-----------------------------+\n",
      "|month|percentage_of_delayed_flights|\n",
      "+-----+-----------------------------+\n",
      "|    1|                        24.28|\n",
      "|    2|                        21.42|\n",
      "|    3|                        16.04|\n",
      "|    4|                        16.19|\n",
      "|    5|                        11.84|\n",
      "|    6|                        17.33|\n",
      "|    7|                         19.4|\n",
      "|    8|                        15.46|\n",
      "|    9|                        11.52|\n",
      "|   10|                        13.43|\n",
      "|   11|                        18.43|\n",
      "|   12|                        19.56|\n",
      "+-----+-----------------------------+\n",
      "\n"
     ]
    },
    {
     "data": {
      "text/plain": [
       "<matplotlib.axes._subplots.AxesSubplot at 0x7f020da04860>"
      ]
     },
     "execution_count": 26,
     "metadata": {},
     "output_type": "execute_result"
    },
    {
     "data": {
      "image/png": "[encoded data removed]",
      "text/plain": [
       "<Figure size 1224x648 with 1 Axes>"
      ]
     },
     "metadata": {},
     "output_type": "display_data"
    }
   ],
   "source": [
    "df1 = df.select('month', 'arrival_delay')\n",
    "df1 = df1.groupBy('month').count().orderBy('month', ascending=1)\n",
    "df1 = df1.withColumnRenamed('count', 'total_number_of_flights')\n",
    "#print(\"\\n*** Total number of flights per month ***\\n\")\n",
    "#df1.show()\n",
    "\n",
    "df2 = df.select('month', 'arrival_delay')[df.arrival_delay>=15]\n",
    "df2 = df2.groupBy('month').count().orderBy('month', ascending=1)\n",
    "df2 = df2.withColumnRenamed('count', 'number_of_delayed_flights')\n",
    "#print(\"\\n*** Delayed flights only ***\\n\")\n",
    "#df2.show()\n",
    "\n",
    "df2 = df2.withColumnRenamed('month', 'month2')\n",
    "df3 = df1.join(df2, df1.month==df2.month2).select('month', 'total_number_of_flights', 'number_of_delayed_flights')\n",
    "df3 = df3.orderBy('month', ascending=1)\n",
    "df3 = df3.withColumn('percentage_of_delayed_flights', round(100*df3.number_of_delayed_flights/df3.total_number_of_flights, 2))\n",
    "df3 = df3.select('month', 'percentage_of_delayed_flights')\n",
    "print(\"\\n*** Percentage of delayed flights per month ***\\n\")\n",
    "df3.show()\n",
    "\n",
    "## plot the bar chart\n",
    "df3.toPandas().plot.bar(x='month', y='percentage_of_delayed_flights')"
   ]
  },
  {
   "cell_type": "markdown",
   "metadata": {},
   "source": [
    "COMMENT:\n",
    "\n",
    "Thanks the the the plot we displayed, we can observ that:\n",
    "- the delays are the highest for January and February\n",
    "- the delays are the lowest for May, September and October\n",
    "\n",
    "Also, delays are gradually increasing between September and January/February: it mays be linked to the autumn and winter weather conditions."
   ]
  },
  {
   "cell_type": "markdown",
   "metadata": {},
   "source": [
    "We are ready now to draw some observations from our data, even if we have only looked at data coming from a year worth of flights:\n",
    "\n",
    "- The probability for a flight to be delayed is low at the beginning or at the very end of a given months\n",
    "- Flights on two first weekdays and on the weekend, are less likely to be delayed\n",
    "- May and September are very good months for travelling, as the probability of delay is low (remember we're working on US data. Do you think this is also true in France?)\n",
    "\n",
    "Putting things together, we can have a global picture of the whole year!"
   ]
  },
  {
   "cell_type": "code",
   "execution_count": 28,
   "metadata": {
    "collapsed": true
   },
   "outputs": [],
   "source": [
    "# Here, we solve the error \"name when is not defined\"\n",
    "from pyspark.sql.functions import when\n",
    "\n",
    "df_with_delay = df.withColumn('is_delay', when(df[\"arrival_delay\"] >= 15, 1).otherwise(0))\n",
    "statistic_day = df_with_delay.groupBy(['year','month', 'day_of_month', 'day_of_week'])\\\n",
    "    .agg((func.sum('is_delay')/func.count('*')).alias('delay_ratio'))\n",
    "\n",
    "# assume that we do statistic on year 1994\n",
    "statistic_day = statistic_day\\\n",
    "    .orderBy('year', 'month', 'day_of_month', 'day_of_week')\n",
    "pdf = pd.DataFrame(data=statistic_day.collect())"
   ]
  },
  {
   "cell_type": "code",
   "execution_count": 29,
   "metadata": {
    "collapsed": true
   },
   "outputs": [
    {
     "data": {
      "image/png": "[encoded data removed]",
      "text/plain": [
       "<Figure size 1440x720 with 1 Axes>"
      ]
     },
     "metadata": {},
     "output_type": "display_data"
    }
   ],
   "source": [
    "fig = plt.figure(figsize=(20,10))                                                             \n",
    "ax = fig.add_subplot(1,1,1)     \n",
    "plt.xlabel(\"Weeks/Months in year\")\n",
    "plt.ylabel(\"Day of weeks (1:Monday -> 7 :Sunday)\")\n",
    "plt.title('Figure 10: The change of number flights over days in year')\n",
    "  \n",
    "rec_size = 0.3\n",
    "from matplotlib.patches import Rectangle\n",
    "import datetime\n",
    "num_days = len(pdf[0])\n",
    "ax.patch.set_facecolor('gray')\n",
    "ax.set_aspect('equal', 'box')\n",
    "ax.xaxis.set_major_locator(plt.NullLocator())\n",
    "ax.yaxis.set_major_locator(plt.NullLocator())\n",
    "\n",
    "for i in range(0, num_days):\n",
    "    # extract information from the result\n",
    "    year = pdf[0][i]\n",
    "    month = pdf[1][i]\n",
    "    day_of_month = pdf[2][i]\n",
    "    day_of_week = pdf[3][i]\n",
    "    day_of_year= datetime.date(year=year, month=month, day=day_of_month).timetuple()\n",
    "    week_of_year = datetime.date(year=year, month=month, day=day_of_month).isocalendar()[1]\n",
    "    \n",
    "    # dealing with the week of the previous year\n",
    "    if week_of_year == 52 and month == 1:\n",
    "        week_of_year = 0\n",
    "        \n",
    "    # the coordinate of a day in graph\n",
    "    X = week_of_year*rec_size\n",
    "    Y = day_of_week*rec_size\n",
    "    \n",
    "    # use different colors to show the delay ratio\n",
    "    color = 'white'\n",
    "    if pdf[4][i] <= 0.084:\n",
    "        color = 'lightyellow'\n",
    "    elif pdf[4][i] <= 0.117:\n",
    "        color = 'lightgreen'\n",
    "    elif pdf[4][i] <= 0.152:\n",
    "        color = 'gold'\n",
    "    elif pdf[4][i] <= 0.201:\n",
    "        color = 'orange'\n",
    "    else:\n",
    "        color = 'red'\n",
    "    rect = plt.Rectangle((X - rec_size/2.0, Y - rec_size/2.0), rec_size, rec_size,\n",
    "                      alpha=1, facecolor=color, edgecolor='whitesmoke')\n",
    "\n",
    "    ax.add_patch(rect)\n",
    "    \n",
    "    # drawing boders to separate months\n",
    "    if day_of_month <= 7:\n",
    "        rect2 = plt.Rectangle((X -rec_size/2.0, Y - rec_size/2.0), 0.01, rec_size,\n",
    "                      alpha=1, facecolor='black')\n",
    "        ax.add_patch(rect2)\n",
    "    if day_of_month == 1:\n",
    "        rect2 = plt.Rectangle((X - rec_size/2.0, Y - rec_size/2.0), rec_size, 0.01,\n",
    "                      alpha=1, facecolor='black')\n",
    "        ax.add_patch(rect2)\n",
    "ax.autoscale_view()\n",
    "\n",
    "patch1 = mpatches.Patch(color='lightyellow', label='delay ratio < 8.4%')\n",
    "patch2 = mpatches.Patch(color='lightgreen', label='delay ratio < 11.7%')\n",
    "patch3 = mpatches.Patch(color='gold', label='delay ratio < 15.2%')\n",
    "patch4 = mpatches.Patch(color='orange', label='delay ratio < 20.1%')\n",
    "patch5 = mpatches.Patch(color='red', label='delay ratio >= 20.1%')\n",
    "\n",
    "plt.legend(handles=[patch1, patch2, patch3, patch4, patch5], bbox_to_anchor=(1.05, 1), loc=2, borderaxespad=0.)\n",
    "\n",
    "plt.show()"
   ]
  },
  {
   "cell_type": "markdown",
   "metadata": {},
   "source": [
    "### Question 4.6\n",
    "<div class=\"alert alert-info\">\n",
    "\n",
    "What is the delay probability for the top 20 busiest airports?  \n",
    "\n",
    "\n",
    "By drawing the flight volume of each airport and the associated delay probability in a single plot, we can observe the relationship between airports, number of flights and the delay.  \n",
    "\n",
    "<div class=\"label label-success\">HINT </div>  Function `<df_colum>.isin(<list>)` helps checking whether a value in column belongs to a list.\n",
    "<ul></ul>\n",
    "<div class=\"label label-success\">SUGGESTION </div>  You can try with different chart type to have a better visualization.\n",
    "</div>"
   ]
  },
  {
   "cell_type": "code",
   "execution_count": 30,
   "metadata": {},
   "outputs": [
    {
     "name": "stdout",
     "output_type": "stream",
     "text": [
      "+-------+-------------------+\n",
      "|airport|        delay_proba|\n",
      "+-------+-------------------+\n",
      "|    MSP|0.13999112831679975|\n",
      "|    DTW|0.14818729368158917|\n",
      "|    ORD| 0.1556564035614228|\n",
      "|    DCA|0.16124691252874543|\n",
      "|    PHX|0.16685201026518393|\n",
      "|    IAH|0.16711171622936752|\n",
      "|    STL|0.16954820652477423|\n",
      "|    LAS|0.17209877843302443|\n",
      "|    MCO|0.17871454592766067|\n",
      "|    SFO|  0.184632959342274|\n",
      "|    LAX|0.18532695062538138|\n",
      "|    LGA| 0.1854427080772219|\n",
      "|    CLT|0.18741529078363725|\n",
      "|    PIT|0.19441011032977232|\n",
      "|    DEN| 0.1950330267646379|\n",
      "|    DFW|0.20272088561399976|\n",
      "|    PHL|0.20326168959373345|\n",
      "|    ATL|0.20877099536420554|\n",
      "|    BOS|0.21722017466549154|\n",
      "|    EWR| 0.2611980802680445|\n",
      "+-------+-------------------+\n",
      "\n",
      "+-------+------+\n",
      "|airport| count|\n",
      "+-------+------+\n",
      "|    ORD|561461|\n",
      "|    DFW|516523|\n",
      "|    ATL|443074|\n",
      "|    LAX|306453|\n",
      "|    STL|304409|\n",
      "|    DEN|285526|\n",
      "|    PHX|280560|\n",
      "|    DTW|276272|\n",
      "|    PIT|262939|\n",
      "|    CLT|259712|\n",
      "|    MSP|247980|\n",
      "|    SFO|235478|\n",
      "|    EWR|233991|\n",
      "|    IAH|208591|\n",
      "|    LGA|203362|\n",
      "|    BOS|199696|\n",
      "|    LAS|189920|\n",
      "|    PHL|186897|\n",
      "|    DCA|176115|\n",
      "|    MCO|153720|\n",
      "+-------+------+\n",
      "\n",
      "+-------+-------------------+------+\n",
      "|airport|        delay_proba| count|\n",
      "+-------+-------------------+------+\n",
      "|    MSP|0.13999112831679975|247980|\n",
      "|    DTW|0.14818729368158917|276272|\n",
      "|    ORD| 0.1556564035614228|561461|\n",
      "|    DCA|0.16124691252874543|176115|\n",
      "|    PHX|0.16685201026518393|280560|\n",
      "|    IAH|0.16711171622936752|208591|\n",
      "|    STL|0.16954820652477423|304409|\n",
      "|    LAS|0.17209877843302443|189920|\n",
      "|    MCO|0.17871454592766067|153720|\n",
      "|    SFO|  0.184632959342274|235478|\n",
      "|    LAX|0.18532695062538138|306453|\n",
      "|    LGA| 0.1854427080772219|203362|\n",
      "|    CLT|0.18741529078363725|259712|\n",
      "|    PIT|0.19441011032977232|262939|\n",
      "|    DEN| 0.1950330267646379|285526|\n",
      "|    DFW|0.20272088561399976|516523|\n",
      "|    PHL|0.20326168959373345|186897|\n",
      "|    ATL|0.20877099536420554|443074|\n",
      "|    BOS|0.21722017466549154|199696|\n",
      "|    EWR| 0.2611980802680445|233991|\n",
      "+-------+-------------------+------+\n",
      "\n"
     ]
    },
    {
     "data": {
      "image/png": "[encoded data removed]",
      "text/plain": [
       "<Figure size 1224x648 with 2 Axes>"
      ]
     },
     "metadata": {},
     "output_type": "display_data"
    }
   ],
   "source": [
    "inBounds = df.withColumn('airport', df.dest_airport)\n",
    "outBounds = df.withColumn('airport', df.src_airport)\n",
    "top20_airports = inBounds.union(outBounds).groupBy('airport').count().orderBy(desc('count')).limit(20)\n",
    "top20_airports_list = [x[0] for x in top20_airports.collect()]\n",
    "airports = inBounds.union(outBounds)\n",
    "top20_airports_delay = airports.filter(airports.airport.isin(top20_airports_list))\\\n",
    ".withColumn('delay', func.when(df.arrival_delay >= 15, 1).otherwise(0))\n",
    "top20_airports_probability_delay = top20_airports_delay.groupBy('airport').agg((func.sum('delay')/func.count('*'))\\\n",
    "                                                                            .alias('delay_proba')).orderBy('delay_proba')\n",
    "top20_airports_probability_delay.show()\n",
    "top20_airports.show()\n",
    "union = top20_airports_probability_delay.join(top20_airports, on='airport').select('*')\n",
    "union.show()\n",
    "\n",
    "airports = [x[0] for x in union.collect()]\n",
    "delays = [x[1] for x in union.collect()]\n",
    "flight_volumes = [x[2] for x in union.collect()]\n",
    "x = np.arange(len(airports))\n",
    "\n",
    "width = 0.35\n",
    "ax1 = plt.subplot(111)\n",
    "ax2 = ax1.twinx() # method found on Matplotlib in order to add an axis\n",
    "#ax.bar(delays, [x for x in delays], 0.2, color='b')\n",
    "#ax.bar(delays, [x for x in flight_volumes], 0.2, color='g')\n",
    "ax1.bar(x-width/2, delays, width, color='b')\n",
    "ax2.bar(x+width/2, flight_volumes, width, color='yellow')\n",
    "plt.xticks(np.arange(len(airports)),airports)\n",
    "\n",
    "plt.show()"
   ]
  },
  {
   "cell_type": "markdown",
   "metadata": {},
   "source": [
    "COMMENT:\n",
    "\n",
    "According to this chart, we can't raise any correlation between delay probabilty and flight volume."
   ]
  },
  {
   "cell_type": "markdown",
   "metadata": {},
   "source": [
    "### Question 4.7\n",
    "\n",
    "<div class=\"alert alert-info\">\n",
    "What is the percentage of delayed flights which belong to one of the top 20 busiest carriers?  \n",
    "Comment the figure!\n",
    "<br><br>\n",
    "\n",
    "<ul></ul>\n",
    "<div class=\"label label-success\">SUGGESTION </div>  You can try with different chart type to have a better visualization.\n",
    "</div>"
   ]
  },
  {
   "cell_type": "code",
   "execution_count": 31,
   "metadata": {},
   "outputs": [
    {
     "name": "stdout",
     "output_type": "stream",
     "text": [
      "+-------+-----------------------+-----------------------------+\n",
      "|carrier|total_number_of_flights|percentage_of_delayed_flights|\n",
      "+-------+-----------------------+-----------------------------+\n",
      "|     AS|                 117475|                        15.96|\n",
      "|     HP|                 177851|                        18.63|\n",
      "|     TW|                 258205|                        18.21|\n",
      "|     NW|                 482798|                        12.95|\n",
      "|     CO|                 484834|                        19.56|\n",
      "|     WN|                 565426|                        12.83|\n",
      "|     UA|                 638750|                        16.87|\n",
      "|     AA|                 722277|                        17.52|\n",
      "|     US|                 857906|                        18.42|\n",
      "|     DL|                 874526|                        18.33|\n",
      "+-------+-----------------------+-----------------------------+\n",
      "\n"
     ]
    },
    {
     "data": {
      "image/png": "[encoded data removed]",
      "text/plain": [
       "<Figure size 1224x648 with 2 Axes>"
      ]
     },
     "metadata": {},
     "output_type": "display_data"
    }
   ],
   "source": [
    "df1 = df.groupBy('carrier').count().orderBy('count', ascending=0).limit(20)\n",
    "df1 = df1.withColumnRenamed('count', 'total_number_of_flights')\n",
    "#print(\"*** Top 20 busiest carriers ***\\n\")\n",
    "#df1.show()\n",
    "\n",
    "\n",
    "df2 = df[df.arrival_delay>=15]\n",
    "df2 = df2.groupBy('carrier').count().orderBy('count', ascending=0).limit(20)\n",
    "df2 = df2.withColumnRenamed('count', 'number_of_delayed_flights')\n",
    "#print(\"*** Number of delayed flights for Top 20 busiest carriers ***\\n\")\n",
    "#df2.show()\n",
    "\n",
    "df2 = df2.withColumnRenamed('carrier', 'carrier2')\n",
    "df3 = df1.join(df2, df1.carrier==df2.carrier2).select('carrier', 'total_number_of_flights', 'number_of_delayed_flights')\n",
    "df3 = df3.withColumn('percentage_of_delayed_flights', round(100*df3.number_of_delayed_flights/df3.total_number_of_flights, 2))\n",
    "df3 = df3.select('carrier', 'total_number_of_flights', 'percentage_of_delayed_flights').orderBy('total_number_of_flights', ascending=1)\n",
    "df3.show()\n",
    "\n",
    "carriers = [x[0] for x in df3.collect()]\n",
    "delays = [x[1] for x in df3.collect()]\n",
    "flight_volumes = [x[2] for x in df3.collect()]\n",
    "x = np.arange(len(carriers))\n",
    "\n",
    "width = 0.35\n",
    "ax1 = plt.subplot(111)\n",
    "ax2 = ax1.twinx() # method found on Matplotlib in order to add an axis\n",
    "#ax.bar(delays, [x for x in delays], 0.2, color='b')\n",
    "#ax.bar(delays, [x for x in flight_volumes], 0.2, color='g')\n",
    "ax1.bar(x-width/2, delays, width, color='b')\n",
    "ax2.bar(x+width/2, flight_volumes, width, color='yellow')\n",
    "plt.xticks(np.arange(len(carriers)),carriers)\n",
    "plt.show()"
   ]
  },
  {
   "cell_type": "markdown",
   "metadata": {},
   "source": [
    "COMMENT:\n",
    "\n",
    "Same remark as the previous question: any correlation between delay probabilty and flight volume can't be raised."
   ]
  },
  {
   "cell_type": "markdown",
   "metadata": {},
   "source": [
    "CONCLUSION:\n",
    "\n",
    "no correlation between delay between percentage of delayed flights and flights volume."
   ]
  },
  {
   "cell_type": "markdown",
   "metadata": {},
   "source": [
    "## Addition (bonus) questions\n",
    "\n",
    "### Additional data\n",
    "In the HDFS file system you have used for running the Notebook, you will notice that there are several other years available (in addition to 1994).\n",
    "\n",
    "There are some other datasets that related to this use case:\n",
    "\n",
    "- Airport IATA Codes to City names and Coordinates mapping: http://stat-computing.org/dataexpo/2009/airports.csv\n",
    "- Carrier codes to Full name mapping: http://stat-computing.org/dataexpo/2009/carriers.csv\n",
    "- Information about individual planes: http://stat-computing.org/dataexpo/2009/plane-data.csv\n",
    "- Weather information: http://www.wunderground.com/weather/api/. You can subscribe for free to the developers' API and obtain (at a limited rate) historical weather information in many different formats. Also, to get an idea of the kind of information is available, you can use this link: http://www.wunderground.com/history/\n",
    "\n",
    "### Question 5.1\n",
    "\n",
    "<div class=\"alert alert-info\">\n",
    "\n",
    "Which airports are present in the dataset only as destination airport?\n",
    "\n",
    "Which airport is present only as source airport in the dataset? \n",
    "\n",
    "</div>\n",
    "\n",
    "### Question 5.2\n",
    "\n",
    "<div class=\"alert alert-info\">\n",
    "\n",
    "Which airports have biggest delay probability ?\n",
    "\n",
    "Which cities have largest delay duration in average ?\n",
    "\n",
    "</div>\n",
    "\n",
    "### Question 5.3\n",
    "\n",
    "<div class=\"alert alert-info\">\n",
    "\n",
    "Is there any relationship between weather condition and the delay of flights in 1994 ?\n",
    "\n",
    "</div>\n"
   ]
  },
  {
   "cell_type": "code",
   "execution_count": 40,
   "metadata": {},
   "outputs": [
    {
     "name": "stdout",
     "output_type": "stream",
     "text": [
      "+----+-----+------------+-----------+------------------------+----------------------+-------------+--------+-----------+------------+-------+\n",
      "|year|month|day_of_month|day_of_week|scheduled_departure_time|scheduled_arrival_time|arrival_delay|distance|src_airport|dest_airport|carrier|\n",
      "+----+-----+------------+-----------+------------------------+----------------------+-------------+--------+-----------+------------+-------+\n",
      "|1987|   10|          14|          3|                     730|                   849|           23|     447|        SAN|         SFO|     PS|\n",
      "|1987|   10|          15|          4|                     730|                   849|           14|     447|        SAN|         SFO|     PS|\n",
      "|1987|   10|          17|          6|                     730|                   849|           29|     447|        SAN|         SFO|     PS|\n",
      "+----+-----+------------+-----------+------------------------+----------------------+-------------+--------+-----------+------------+-------+\n",
      "\n",
      "+----+-----+------------+-----------+------------------------+----------------------+-------------+--------+-----------+------------+-------+\n",
      "|year|month|day_of_month|day_of_week|scheduled_departure_time|scheduled_arrival_time|arrival_delay|distance|src_airport|dest_airport|carrier|\n",
      "+----+-----+------------+-----------+------------------------+----------------------+-------------+--------+-----------+------------+-------+\n",
      "|1988|    1|           9|          6|                    1331|                  1435|           23|     273|        SYR|         BWI|     PI|\n",
      "|1988|    1|          10|          7|                    1331|                  1435|            8|     273|        SYR|         BWI|     PI|\n",
      "|1988|    1|          11|          1|                    1331|                  1435|           78|     273|        SYR|         BWI|     PI|\n",
      "+----+-----+------------+-----------+------------------------+----------------------+-------------+--------+-----------+------------+-------+\n",
      "\n",
      "+----+-----+------------+-----------+------------------------+----------------------+-------------+--------+-----------+------------+-------+\n",
      "|year|month|day_of_month|day_of_week|scheduled_departure_time|scheduled_arrival_time|arrival_delay|distance|src_airport|dest_airport|carrier|\n",
      "+----+-----+------------+-----------+------------------------+----------------------+-------------+--------+-----------+------------+-------+\n",
      "|1989|    1|          23|          1|                    1230|                  1552|          110|    2398|        SFO|         HNL|     UA|\n",
      "|1989|    1|          24|          2|                    1230|                  1552|           20|    2398|        SFO|         HNL|     UA|\n",
      "|1989|    1|          25|          3|                    1230|                  1552|          -19|    2398|        SFO|         HNL|     UA|\n",
      "+----+-----+------------+-----------+------------------------+----------------------+-------------+--------+-----------+------------+-------+\n",
      "\n",
      "+----+-----+------------+-----------+------------------------+----------------------+-------------+--------+-----------+------------+-------+\n",
      "|year|month|day_of_month|day_of_week|scheduled_departure_time|scheduled_arrival_time|arrival_delay|distance|src_airport|dest_airport|carrier|\n",
      "+----+-----+------------+-----------+------------------------+----------------------+-------------+--------+-----------+------------+-------+\n",
      "|1990|    1|           3|          3|                    1630|                  1723|           32|     182|        CMH|         IND|     US|\n",
      "|1990|    1|           4|          4|                    1630|                  1723|           44|     182|        CMH|         IND|     US|\n",
      "|1990|    1|           5|          5|                    1630|                  1723|           -8|     182|        CMH|         IND|     US|\n",
      "+----+-----+------------+-----------+------------------------+----------------------+-------------+--------+-----------+------------+-------+\n",
      "\n",
      "+----+-----+------------+-----------+------------------------+----------------------+-------------+--------+-----------+------------+-------+\n",
      "|year|month|day_of_month|day_of_week|scheduled_departure_time|scheduled_arrival_time|arrival_delay|distance|src_airport|dest_airport|carrier|\n",
      "+----+-----+------------+-----------+------------------------+----------------------+-------------+--------+-----------+------------+-------+\n",
      "|1991|    1|           1|          2|                    1705|                  1944|            0|    1104|        TPA|         SYR|     US|\n",
      "|1991|    1|           2|          3|                    1705|                  1944|            2|    1104|        TPA|         SYR|     US|\n",
      "|1991|    1|           3|          4|                    1705|                  1944|          -10|    1104|        TPA|         SYR|     US|\n",
      "+----+-----+------------+-----------+------------------------+----------------------+-------------+--------+-----------+------------+-------+\n",
      "\n",
      "+----+-----+------------+-----------+------------------------+----------------------+-------------+--------+-----------+------------+-------+\n",
      "|year|month|day_of_month|day_of_week|scheduled_departure_time|scheduled_arrival_time|arrival_delay|distance|src_airport|dest_airport|carrier|\n",
      "+----+-----+------------+-----------+------------------------+----------------------+-------------+--------+-----------+------------+-------+\n",
      "|1992|    1|           2|          4|                     750|                   846|            5|     182|        CMH|         IND|     US|\n",
      "|1992|    1|           3|          5|                     750|                   846|           -3|     182|        CMH|         IND|     US|\n",
      "|1992|    1|           4|          6|                     750|                   846|           -3|     182|        CMH|         IND|     US|\n",
      "+----+-----+------------+-----------+------------------------+----------------------+-------------+--------+-----------+------------+-------+\n",
      "\n",
      "+----+-----+------------+-----------+------------------------+----------------------+-------------+--------+-----------+------------+-------+\n",
      "|year|month|day_of_month|day_of_week|scheduled_departure_time|scheduled_arrival_time|arrival_delay|distance|src_airport|dest_airport|carrier|\n",
      "+----+-----+------------+-----------+------------------------+----------------------+-------------+--------+-----------+------------+-------+\n",
      "|1993|    1|          29|          5|                    1055|                  1212|           16|     282|        EWR|         BUF|     US|\n",
      "|1993|    1|          30|          6|                    1055|                  1212|            2|     282|        EWR|         BUF|     US|\n",
      "|1993|    1|          31|          7|                    1055|                  1212|            1|     282|        EWR|         BUF|     US|\n",
      "+----+-----+------------+-----------+------------------------+----------------------+-------------+--------+-----------+------------+-------+\n",
      "\n",
      "+----+-----+------------+-----------+------------------------+----------------------+-------------+--------+-----------+------------+-------+\n",
      "|year|month|day_of_month|day_of_week|scheduled_departure_time|scheduled_arrival_time|arrival_delay|distance|src_airport|dest_airport|carrier|\n",
      "+----+-----+------------+-----------+------------------------+----------------------+-------------+--------+-----------+------------+-------+\n",
      "|1994|    1|           7|          5|                     900|                  1003|           -9|     290|        CLT|         ORF|     US|\n",
      "|1994|    1|           8|          6|                     900|                  1003|          -11|     290|        CLT|         ORF|     US|\n",
      "|1994|    1|          10|          1|                     900|                  1003|           20|     290|        CLT|         ORF|     US|\n",
      "+----+-----+------------+-----------+------------------------+----------------------+-------------+--------+-----------+------------+-------+\n",
      "\n",
      "+----+-----+------------+-----------+------------------------+----------------------+-------------+--------+-----------+------------+-------+\n",
      "|year|month|day_of_month|day_of_week|scheduled_departure_time|scheduled_arrival_time|arrival_delay|distance|src_airport|dest_airport|carrier|\n",
      "+----+-----+------------+-----------+------------------------+----------------------+-------------+--------+-----------+------------+-------+\n",
      "|1995|    1|           6|          5|                     645|                   937|           15|     678|        ORD|         PHL|     UA|\n",
      "|1995|    1|           7|          6|                     645|                   937|            1|     678|        ORD|         PHL|     UA|\n",
      "|1995|    1|           8|          7|                     645|                   937|           -5|     678|        ORD|         PHL|     UA|\n",
      "+----+-----+------------+-----------+------------------------+----------------------+-------------+--------+-----------+------------+-------+\n",
      "\n",
      "+----+-----+------------+-----------+------------------------+----------------------+-------------+--------+-----------+------------+-------+\n",
      "|year|month|day_of_month|day_of_week|scheduled_departure_time|scheduled_arrival_time|arrival_delay|distance|src_airport|dest_airport|carrier|\n",
      "+----+-----+------------+-----------+------------------------+----------------------+-------------+--------+-----------+------------+-------+\n",
      "|1996|    1|          29|          1|                    1930|                  2139|           66|    1587|        ATL|         PHX|     DL|\n",
      "|1996|    1|          30|          2|                    1930|                  2139|            3|    1587|        ATL|         PHX|     DL|\n",
      "|1996|    1|          31|          3|                    1930|                  2139|           52|    1587|        ATL|         PHX|     DL|\n",
      "+----+-----+------------+-----------+------------------------+----------------------+-------------+--------+-----------+------------+-------+\n",
      "\n",
      "+----+-----+------------+-----------+------------------------+----------------------+-------------+--------+-----------+------------+-------+\n",
      "|year|month|day_of_month|day_of_week|scheduled_departure_time|scheduled_arrival_time|arrival_delay|distance|src_airport|dest_airport|carrier|\n",
      "+----+-----+------------+-----------+------------------------+----------------------+-------------+--------+-----------+------------+-------+\n",
      "|1997|    1|          28|          2|                    1615|                  1725|            3|     328|        ABQ|         PHX|     WN|\n",
      "|1997|    1|          29|          3|                    1615|                  1725|           10|     328|        ABQ|         PHX|     WN|\n",
      "|1997|    1|          30|          4|                    1615|                  1725|            5|     328|        ABQ|         PHX|     WN|\n",
      "+----+-----+------------+-----------+------------------------+----------------------+-------------+--------+-----------+------------+-------+\n",
      "\n",
      "+----+-----+------------+-----------+------------------------+----------------------+-------------+--------+-----------+------------+-------+\n",
      "|year|month|day_of_month|day_of_week|scheduled_departure_time|scheduled_arrival_time|arrival_delay|distance|src_airport|dest_airport|carrier|\n",
      "+----+-----+------------+-----------+------------------------+----------------------+-------------+--------+-----------+------------+-------+\n",
      "|1998|    1|          17|          6|                     715|                   840|            0|     872|        AUS|         PHX|     WN|\n",
      "|1998|    1|          18|          7|                     715|                   840|          -10|     872|        AUS|         PHX|     WN|\n",
      "|1998|    1|          19|          1|                     715|                   840|           -9|     872|        AUS|         PHX|     WN|\n",
      "+----+-----+------------+-----------+------------------------+----------------------+-------------+--------+-----------+------------+-------+\n",
      "\n",
      "+----+-----+------------+-----------+------------------------+----------------------+-------------+--------+-----------+------------+-------+\n",
      "|year|month|day_of_month|day_of_week|scheduled_departure_time|scheduled_arrival_time|arrival_delay|distance|src_airport|dest_airport|carrier|\n",
      "+----+-----+------------+-----------+------------------------+----------------------+-------------+--------+-----------+------------+-------+\n",
      "|1999|    1|          27|          3|                    1908|                  2005|           19|     198|        RIC|         PHL|     US|\n",
      "|1999|    1|          28|          4|                    1908|                  2005|           81|     198|        RIC|         PHL|     US|\n",
      "|1999|    1|          29|          5|                    1908|                  2005|           -5|     198|        RIC|         PHL|     US|\n",
      "+----+-----+------------+-----------+------------------------+----------------------+-------------+--------+-----------+------------+-------+\n",
      "\n",
      "+----+-----+------------+-----------+------------------------+----------------------+-------------+--------+-----------+------------+-------+\n",
      "|year|month|day_of_month|day_of_week|scheduled_departure_time|scheduled_arrival_time|arrival_delay|distance|src_airport|dest_airport|carrier|\n",
      "+----+-----+------------+-----------+------------------------+----------------------+-------------+--------+-----------+------------+-------+\n",
      "|2000|    1|          28|          5|                    1647|                  1859|            7|    1587|        ATL|         PHX|     HP|\n",
      "|2000|    1|          29|          6|                    1647|                  1859|           40|    1587|        ATL|         PHX|     HP|\n",
      "|2000|    1|          30|          7|                    1647|                  1859|         null|    1587|        ATL|         PHX|     HP|\n",
      "+----+-----+------------+-----------+------------------------+----------------------+-------------+--------+-----------+------------+-------+\n",
      "\n",
      "+----+-----+------------+-----------+------------------------+----------------------+-------------+--------+-----------+------------+-------+\n",
      "|year|month|day_of_month|day_of_week|scheduled_departure_time|scheduled_arrival_time|arrival_delay|distance|src_airport|dest_airport|carrier|\n",
      "+----+-----+------------+-----------+------------------------+----------------------+-------------+--------+-----------+------------+-------+\n",
      "|2001|    1|          17|          3|                    1810|                  1934|           -3|     361|        BWI|         CLT|     US|\n",
      "|2001|    1|          18|          4|                    1810|                  1934|            4|     361|        BWI|         CLT|     US|\n",
      "|2001|    1|          19|          5|                    1810|                  1934|           23|     361|        BWI|         CLT|     US|\n",
      "+----+-----+------------+-----------+------------------------+----------------------+-------------+--------+-----------+------------+-------+\n",
      "\n",
      "+----+-----+------------+-----------+------------------------+----------------------+-------------+--------+-----------+------------+-------+\n",
      "|year|month|day_of_month|day_of_week|scheduled_departure_time|scheduled_arrival_time|arrival_delay|distance|src_airport|dest_airport|carrier|\n",
      "+----+-----+------------+-----------+------------------------+----------------------+-------------+--------+-----------+------------+-------+\n",
      "|2002|    1|          13|          7|                    2235|                  2353|          -11|     366|        PIT|         CLT|     US|\n",
      "|2002|    1|          14|          1|                    2235|                  2353|           -6|     366|        PIT|         CLT|     US|\n",
      "|2002|    1|          15|          2|                    2235|                  2353|          -11|     366|        PIT|         CLT|     US|\n",
      "+----+-----+------------+-----------+------------------------+----------------------+-------------+--------+-----------+------------+-------+\n",
      "\n",
      "+----+-----+------------+-----------+------------------------+----------------------+-------------+--------+-----------+------------+-------+\n",
      "|year|month|day_of_month|day_of_week|scheduled_departure_time|scheduled_arrival_time|arrival_delay|distance|src_airport|dest_airport|carrier|\n",
      "+----+-----+------------+-----------+------------------------+----------------------+-------------+--------+-----------+------------+-------+\n",
      "|2003|    1|          29|          3|                    1655|                  1913|           -1|     837|        ORD|         MSY|     UA|\n",
      "|2003|    1|          30|          4|                    1655|                  1913|           -3|     837|        ORD|         MSY|     UA|\n",
      "|2003|    1|          31|          5|                    1655|                  1913|           23|     837|        ORD|         MSY|     UA|\n",
      "+----+-----+------------+-----------+------------------------+----------------------+-------------+--------+-----------+------------+-------+\n",
      "\n",
      "+----+-----+------------+-----------+------------------------+----------------------+-------------+--------+-----------+------------+-------+\n",
      "|year|month|day_of_month|day_of_week|scheduled_departure_time|scheduled_arrival_time|arrival_delay|distance|src_airport|dest_airport|carrier|\n",
      "+----+-----+------------+-----------+------------------------+----------------------+-------------+--------+-----------+------------+-------+\n",
      "|2004|    1|          12|          1|                     630|                   915|          -14|     599|        ORD|         CLT|     UA|\n",
      "|2004|    1|          13|          2|                     630|                   915|           -4|     599|        ORD|         CLT|     UA|\n",
      "|2004|    1|          14|          3|                     630|                   915|            5|     599|        ORD|         CLT|     UA|\n",
      "+----+-----+------------+-----------+------------------------+----------------------+-------------+--------+-----------+------------+-------+\n",
      "\n",
      "+----+-----+------------+-----------+------------------------+----------------------+-------------+--------+-----------+------------+-------+\n",
      "|year|month|day_of_month|day_of_week|scheduled_departure_time|scheduled_arrival_time|arrival_delay|distance|src_airport|dest_airport|carrier|\n",
      "+----+-----+------------+-----------+------------------------+----------------------+-------------+--------+-----------+------------+-------+\n",
      "|2005|    1|          28|          5|                    1605|                  1759|          -18|     867|        BOS|         ORD|     UA|\n",
      "|2005|    1|          29|          6|                    1605|                  1759|          -23|     867|        BOS|         ORD|     UA|\n",
      "|2005|    1|          30|          7|                    1610|                  1805|          -24|     867|        BOS|         ORD|     UA|\n",
      "+----+-----+------------+-----------+------------------------+----------------------+-------------+--------+-----------+------------+-------+\n",
      "\n",
      "+----+-----+------------+-----------+------------------------+----------------------+-------------+--------+-----------+------------+-------+\n",
      "|year|month|day_of_month|day_of_week|scheduled_departure_time|scheduled_arrival_time|arrival_delay|distance|src_airport|dest_airport|carrier|\n",
      "+----+-----+------------+-----------+------------------------+----------------------+-------------+--------+-----------+------------+-------+\n",
      "|2006|    1|          11|          3|                     745|                  1018|            6|    1587|        ATL|         PHX|     US|\n",
      "|2006|    1|          11|          3|                    1053|                  1318|           -5|    1587|        ATL|         PHX|     US|\n",
      "|2006|    1|          11|          3|                    1915|                  2133|          -23|    1587|        ATL|         PHX|     US|\n",
      "+----+-----+------------+-----------+------------------------+----------------------+-------------+--------+-----------+------------+-------+\n",
      "\n",
      "+----+-----+------------+-----------+------------------------+----------------------+-------------+--------+-----------+------------+-------+\n",
      "|year|month|day_of_month|day_of_week|scheduled_departure_time|scheduled_arrival_time|arrival_delay|distance|src_airport|dest_airport|carrier|\n",
      "+----+-----+------------+-----------+------------------------+----------------------+-------------+--------+-----------+------------+-------+\n",
      "|2008|    1|           3|          4|                    1955|                  2225|          -14|     810|        IAD|         TPA|     WN|\n",
      "|2008|    1|           3|          4|                     735|                  1000|            2|     810|        IAD|         TPA|     WN|\n",
      "|2008|    1|           3|          4|                     620|                   750|           14|     515|        IND|         BWI|     WN|\n",
      "+----+-----+------------+-----------+------------------------+----------------------+-------------+--------+-----------+------------+-------+\n",
      "\n",
      "Runtime: 1228.31 sec\n"
     ]
    }
   ],
   "source": [
    "## Construction of a big dataframe including all the flights from 1994 to 2008 (except 2007 because we don't have the data)\n",
    "\n",
    "from pyspark.sql import SQLContext\n",
    "from pyspark.sql.types import *\n",
    "from pyspark.sql.functions import explode, split, desc, col, udf, round\n",
    "%matplotlib inline\n",
    "import matplotlib.pyplot as plt\n",
    "import matplotlib.colors as mcolors\n",
    "import pandas as pd\n",
    "import numpy as np\n",
    "import pyspark.sql.functions as func\n",
    "import matplotlib.patches as mpatches\n",
    "import seaborn as sns\n",
    "\n",
    "\n",
    "sqlContext = SQLContext(sc)\n",
    "\n",
    "t_start = time.time()\n",
    "\n",
    "list_data = []\n",
    "for year in range(1987, 2007):\n",
    "    #print(year)\n",
    "    data = sc.textFile('/datasets/airline/' + str(year) + '.csv')\n",
    "    list_data.append(data)\n",
    "list_data.append(sc.textFile('/datasets/airline/2008.csv'))\n",
    "\n",
    "list_cleaned_data = []\n",
    "for data in list_data:\n",
    "    header = data.first()\n",
    "    cleaned_data = (\n",
    "        data\n",
    "    \n",
    "        # filter out the header\n",
    "        .filter(lambda line: line != header)\n",
    "    \n",
    "         # replace the 'missing data' by empty value\n",
    "        .map(lambda line: ','.join(list(map(lambda x: x if x != 'NA' else '',line.split(',')))))\n",
    "    )\n",
    "    list_cleaned_data.append(cleaned_data)\n",
    "\n",
    "\n",
    "\n",
    "\n",
    "airline_data_schema = StructType([ \\\n",
    "    #StructField( name, dataType, nullable)\n",
    "    StructField(\"year\",                     IntegerType(), True), \\\n",
    "    StructField(\"month\",                    IntegerType(), True), \\\n",
    "    StructField(\"day_of_month\",             IntegerType(), True), \\\n",
    "    StructField(\"day_of_week\",              IntegerType(), True), \\\n",
    "    StructField(\"departure_time\",           IntegerType(), True), \\\n",
    "    StructField(\"scheduled_departure_time\", IntegerType(), True), \\\n",
    "    StructField(\"arrival_time\",             IntegerType(), True), \\\n",
    "    StructField(\"scheduled_arrival_time\",   IntegerType(), True), \\\n",
    "    StructField(\"carrier\",                  StringType(),  True), \\\n",
    "    StructField(\"flight_number\",            StringType(),  True), \\\n",
    "    StructField(\"tail_number\",              StringType(),  True), \\\n",
    "    StructField(\"actual_elapsed_time\",      IntegerType(), True), \\\n",
    "    StructField(\"scheduled_elapsed_time\",   IntegerType(), True), \\\n",
    "    StructField(\"air_time\",                 IntegerType(), True), \\\n",
    "    StructField(\"arrival_delay\",            IntegerType(), True), \\\n",
    "    StructField(\"departure_delay\",          IntegerType(), True), \\\n",
    "    StructField(\"src_airport\",              StringType(),  True), \\\n",
    "    StructField(\"dest_airport\",             StringType(),  True), \\\n",
    "    StructField(\"distance\",                 IntegerType(), True), \\\n",
    "    StructField(\"taxi_in_time\",             IntegerType(), True), \\\n",
    "    StructField(\"taxi_out_time\",            IntegerType(), True), \\\n",
    "    StructField(\"cancelled\",                StringType(),  True), \\\n",
    "    StructField(\"cancellation_code\",        StringType(),  True), \\\n",
    "    StructField(\"diverted\",                 StringType(),  True), \\\n",
    "    StructField(\"carrier_delay\",            IntegerType(), True), \\\n",
    "    StructField(\"weather_delay\",            IntegerType(), True), \\\n",
    "    StructField(\"nas_delay\",                IntegerType(), True), \\\n",
    "    StructField(\"security_delay\",           IntegerType(), True), \\\n",
    "    StructField(\"late_aircraft_delay\",      IntegerType(), True)\\\n",
    "])\n",
    "\n",
    "\n",
    "# convert each line into a tuple of features (columns) with the corresponding data type\n",
    "list_cleaned_data_to_columns = []\n",
    "for cleaned_data in list_cleaned_data:\n",
    "    cleaned_data_to_columns = (\n",
    "    cleaned_data.map(lambda l: l.split(\",\"))\n",
    "    .map(lambda cols: \n",
    "         (\n",
    "            int(cols[0])  if cols[ 0] else None,\n",
    "            int(cols[1])  if cols[ 1] else None,\n",
    "            int(cols[2])  if cols[ 2] else None,\n",
    "            int(cols[3])  if cols[ 3] else None,\n",
    "            int(cols[4])  if cols[ 4] else None,\n",
    "            int(cols[5])  if cols[ 5] else None,\n",
    "            int(cols[6])  if cols[ 6] else None,\n",
    "            int(cols[7])  if cols[ 7] else None,\n",
    "            cols[8]       if cols[ 8] else None,\n",
    "            cols[9]       if cols[ 9] else None,\n",
    "            cols[10]      if cols[10] else None,\n",
    "            int(cols[11]) if cols[11] else None,\n",
    "            int(cols[12]) if cols[12] else None,\n",
    "            int(cols[13]) if cols[13] else None,\n",
    "            int(cols[14]) if cols[14] else None,\n",
    "            int(cols[15]) if cols[15] else None,\n",
    "            cols[16]      if cols[16] else None,\n",
    "            cols[17]      if cols[17] else None,\n",
    "            int(cols[18]) if cols[18] else None,\n",
    "            int(cols[19]) if cols[19] else None,\n",
    "            int(cols[20]) if cols[20] else None,\n",
    "            cols[21]      if cols[21] else None,\n",
    "            cols[22]      if cols[22] else None,\n",
    "            cols[23]      if cols[23] else None,\n",
    "            int(cols[24]) if cols[24] else None,\n",
    "            int(cols[25]) if cols[25] else None,\n",
    "            int(cols[26]) if cols[26] else None,\n",
    "            int(cols[27]) if cols[27] else None,\n",
    "            int(cols[28]) if cols[28] else None\n",
    "         ))             \n",
    "    )\n",
    "    list_cleaned_data_to_columns.append(cleaned_data_to_columns)\n",
    "    \n",
    "#print(\"*** TEST SUCCESFUL ***\")\n",
    "#print(list_data)\n",
    "#print(list_cleaned_data)\n",
    "#print(list_cleaned_data_to_columns)\n",
    "\n",
    "# create dataframes\n",
    "list_df = []\n",
    "for cleaned_data_to_columns in list_cleaned_data_to_columns:\n",
    "    df = sqlContext.createDataFrame(cleaned_data_to_columns, airline_data_schema)\\\n",
    "    .select(['year', 'month', 'day_of_month', 'day_of_week',\n",
    "            'scheduled_departure_time','scheduled_arrival_time',\n",
    "            'arrival_delay', 'distance', \n",
    "            'src_airport', 'dest_airport', 'carrier'])\\\n",
    "    .cache()\n",
    "    list_df.append(df)\n",
    "    df.limit(3).show()\n",
    "\n",
    "print(\"Runtime: %.2f sec\" % (time.time() - t_start))\n",
    "print(\"Runtime: \", (time.time() - t_start)//60, \"min\", int((time.time() - t_start)%60), \"sec\")\n",
    "\n",
    "df_total = list_df[0]\n",
    "for df in list_df[1:]:\n",
    "    df_total = df_total.union(df)"
   ]
  },
  {
   "cell_type": "code",
   "execution_count": 84,
   "metadata": {},
   "outputs": [
    {
     "name": "stdout",
     "output_type": "stream",
     "text": [
      "Question 5.1\n",
      "\n",
      "*** Airports which are only as destination airports ***\n",
      "\n",
      "+------------+\n",
      "|dest_airport|\n",
      "+------------+\n",
      "|         RCA|\n",
      "|         LBF|\n",
      "|         MKC|\n",
      "|         LAR|\n",
      "|         CBM|\n",
      "|         SKA|\n",
      "+------------+\n",
      "\n",
      "\n",
      "*** Airports which are only as source airports ***\n",
      "\n",
      "+-----------+\n",
      "|src_airport|\n",
      "+-----------+\n",
      "+-----------+\n",
      "\n"
     ]
    }
   ],
   "source": [
    "## Question 5.1\n",
    "print(\"Question 5.1\")\n",
    "\n",
    "source_airports = df_total.select('src_airport').distinct()\n",
    "#source_airports.show()\n",
    "destination_airports = df_total.select('dest_airport').distinct()\n",
    "#destination_airports.show()\n",
    "\n",
    "only_destination_airports = destination_airports.subtract(source_airports)\n",
    "print(\"\\n*** Airports which are only as destination airports ***\\n\")\n",
    "only_destination_airports.show()\n",
    "\n",
    "only_source_airports = source_airports.subtract(destination_airports)\n",
    "print(\"\\n*** Airports which are only as source airports ***\\n\")\n",
    "only_source_airports.show()"
   ]
  },
  {
   "cell_type": "markdown",
   "metadata": {},
   "source": [
    "COMMENT:\n",
    "\n",
    "This answer confirms what we said in question 2.1. Indeed, we can see that there are 6 airports which are only as destination airports. In question 2.1, there was only one such airport.\n",
    "It means that there a missing data."
   ]
  },
  {
   "cell_type": "code",
   "execution_count": 104,
   "metadata": {},
   "outputs": [
    {
     "name": "stdout",
     "output_type": "stream",
     "text": [
      "Question 5.2\n",
      "\n",
      "*** Top 20 airports by delay probability ***\n",
      "\n",
      "+-------+-----------------+\n",
      "|airport|delay_probability|\n",
      "+-------+-----------------+\n",
      "|    BFI|              1.0|\n",
      "|    BFF|              1.0|\n",
      "|    FMN|              1.0|\n",
      "|    CYS|              1.0|\n",
      "|    OGD|             0.83|\n",
      "|    OTH|              0.4|\n",
      "|    ILG|             0.37|\n",
      "|    ADK|             0.36|\n",
      "|    ACK|             0.34|\n",
      "|    PIR|             0.33|\n",
      "|    LMT|             0.29|\n",
      "|    SOP|             0.29|\n",
      "|    GCC|             0.28|\n",
      "|    JFK|             0.27|\n",
      "|    YAP|             0.26|\n",
      "|    EWR|             0.26|\n",
      "|    MOD|             0.25|\n",
      "|    MEI|             0.25|\n",
      "|    TEX|             0.25|\n",
      "|    EGE|             0.25|\n",
      "+-------+-----------------+\n",
      "\n"
     ]
    }
   ],
   "source": [
    "## Question 5.2 (first part)\n",
    "print(\"Question 5.2\")\n",
    "\n",
    "df_total1 = df_total.select('src_airport', 'arrival_delay')\n",
    "df_total1 = df_total1.groupBy('src_airport').count()\n",
    "df_total1 = df_total1.withColumnRenamed('count', 'total_number_of_flights')\n",
    "#df_total1.show()\n",
    "\n",
    "# We consider only outbound flights for delays\n",
    "df_total2 = df_total[df_total.arrival_delay>=15].select('src_airport', 'arrival_delay')\n",
    "df_total2 = df_total2.groupBy('src_airport').count()\n",
    "df_total2 = df_total2.withColumnRenamed('count', 'number_of_delayed_flights')\n",
    "df_total2 = df_total2.withColumnRenamed('src_airport', 'src_airport2')\n",
    "#df_total2.show()\n",
    "\n",
    "df_total3 = df_total1.join(df_total2, df_total1.src_airport==df_total2.src_airport2)\n",
    "df_total3 = df_total3.withColumnRenamed('src_airport', 'airport')\n",
    "df_total3 = df_total3.select('airport', 'total_number_of_flights', 'number_of_delayed_flights')\n",
    "df_total3 = df_total3.withColumn('delay_probability', round(df_total3.number_of_delayed_flights/df_total3.total_number_of_flights, 2))\n",
    "df_total3 = df_total3.select('airport', 'delay_probability').orderBy('delay_probability', ascending=0).limit(20)\n",
    "print(\"\\n*** Top 20 airports by delay probability ***\\n\")\n",
    "df_total3.show()"
   ]
  },
  {
   "cell_type": "code",
   "execution_count": 194,
   "metadata": {},
   "outputs": [
    {
     "name": "stdout",
     "output_type": "stream",
     "text": [
      "\n",
      "*** Top 20 airports for delay duration ***\n",
      "\n",
      "+-------+-------------+\n",
      "|airport|average_delay|\n",
      "+-------+-------------+\n",
      "|    FMN|        164.0|\n",
      "|    OGD|        148.4|\n",
      "|    CYS|        122.0|\n",
      "|    BFF|         93.0|\n",
      "|    PIR|         32.0|\n",
      "|    OTH|         26.4|\n",
      "|    ACK|         26.1|\n",
      "|    YAP|         21.0|\n",
      "|    BFI|         20.0|\n",
      "|    ILG|         19.9|\n",
      "|    LMT|         19.4|\n",
      "|    ADK|         18.9|\n",
      "|    CKB|         17.4|\n",
      "|    DUT|         13.7|\n",
      "|    SPI|         13.4|\n",
      "|    GCC|         13.3|\n",
      "|    TEX|         12.8|\n",
      "|    PSG|         12.2|\n",
      "|    ASE|         12.2|\n",
      "|    HHH|         12.2|\n",
      "+-------+-------------+\n",
      "\n",
      "\n",
      "*** Dataset 'Airport IATA Codes to City names and Coordinates mapping' (from additional data of the lab) ***\n",
      "\n",
      "+----+------------------+\n",
      "|iata|              city|\n",
      "+----+------------------+\n",
      "| 00M|       Bay Springs|\n",
      "| 00R|        Livingston|\n",
      "| 00V|  Colorado Springs|\n",
      "| 01G|             Perry|\n",
      "| 01J|          Hilliard|\n",
      "| 01M|           Belmont|\n",
      "| 02A|           Clanton|\n",
      "| 02C|        Brookfield|\n",
      "| 02G|    East Liverpool|\n",
      "| 03D|           Memphis|\n",
      "| 04M|         Pittsboro|\n",
      "| 04Y|            Hawley|\n",
      "| 05C|          Griffith|\n",
      "| 05F|        Gatesville|\n",
      "| 05U|            Eureka|\n",
      "| 06A|          Tuskegee|\n",
      "| 06C|Chicago/Schaumburg|\n",
      "| 06D|             Rolla|\n",
      "| 06M|            Eupora|\n",
      "| 06N|        Middletown|\n",
      "+----+------------------+\n",
      "only showing top 20 rows\n",
      "\n",
      "\n",
      "*** Top 20 cities for average delay duration ***\n",
      "+-------------+-------+-------------+\n",
      "|         city|airport|average_delay|\n",
      "+-------------+-------+-------------+\n",
      "|   Farmington|    FMN|        164.0|\n",
      "|        Ogden|    OGD|        148.4|\n",
      "|     Cheyenne|    CYS|        122.0|\n",
      "|  Scottsbluff|    BFF|         93.0|\n",
      "|       Pierre|    PIR|         32.0|\n",
      "|   North Bend|    OTH|         26.4|\n",
      "|    Nantucket|    ACK|         26.1|\n",
      "|          nan|    YAP|         21.0|\n",
      "|      Seattle|    BFI|         20.0|\n",
      "|   Wilmington|    ILG|         19.9|\n",
      "|Klamath Falls|    LMT|         19.4|\n",
      "|         Adak|    ADK|         18.9|\n",
      "|   Clarksburg|    CKB|         17.4|\n",
      "|     Unalaska|    DUT|         13.7|\n",
      "|  Springfield|    SPI|         13.4|\n",
      "|     Gillette|    GCC|         13.3|\n",
      "|    Telluride|    TEX|         12.8|\n",
      "|          nan|    HHH|         12.2|\n",
      "|        Aspen|    ASE|         12.2|\n",
      "|   Petersburg|    PSG|         12.2|\n",
      "+-------------+-------+-------------+\n",
      "\n"
     ]
    }
   ],
   "source": [
    "## Question 5.2 (second part)\n",
    "\n",
    "#Firstly we create a dataframe including the top airports for delay duration\n",
    "df_total1 = df_total.groupBy('src_airport').avg('arrival_delay')\n",
    "df_total1 = df_total1.withColumnRenamed('avg(arrival_delay)', 'average_delay')\n",
    "df_total1 = df_total1.withColumnRenamed('src_airport', 'airport')\n",
    "df_total1 = df_total1.withColumn('average_delay', round('average_delay', 1))\n",
    "df_total1 = df_total1.orderBy('average_delay', ascending=0).limit(20)\n",
    "print(\"\\n*** Top 20 airports for delay duration ***\\n\")\n",
    "df_total1.show()\n",
    "\n",
    "# we load the first dataset provided in additional data (matching iata codes with cities)\n",
    "airports_panda_df = pd.read_csv('airports.csv') # we downloaded the csv file and placed it in the same folder as the jupyter notebook ipynb\n",
    "#airports_panda_df.head()\n",
    "airports_panda_df = airports_panda_df[['iata', 'city']]\n",
    "airports_panda_df[['iata', 'city']] = airports_panda_df[['iata', 'city']].astype(str)\n",
    "\n",
    "airports_df = sqlContext.createDataFrame(airports_panda_df) # convert panda dataframe to pyspark dataframe\n",
    "print(\"\\n*** Dataset 'Airport IATA Codes to City names and Coordinates mapping' (from additional data of the lab) ***\\n\")\n",
    "airports_df.show()\n",
    "\n",
    "# we just have to join with the previous dataset\n",
    "df_total2 = df_total1.join(airports_df, df_total1.airport==airports_df.iata)\n",
    "df_total2 = df_total2.select('city', 'airport', 'average_delay')\n",
    "df_total2 = df_total2.orderBy('average_delay', ascending=0)\n",
    "print(\"\\n*** Top 20 cities for average delay duration ***\")\n",
    "df_total2.show()"
   ]
  },
  {
   "cell_type": "code",
   "execution_count": null,
   "metadata": {},
   "outputs": [],
   "source": []
  }
 ],
 "metadata": {
  "kernelspec": {
   "display_name": "Python 3",
   "language": "python",
   "name": "python3"
  },
  "language_info": {
   "codemirror_mode": {
    "name": "ipython",
    "version": 3
   },
   "file_extension": ".py",
   "mimetype": "text/x-python",
   "name": "python",
   "nbconvert_exporter": "python",
   "pygments_lexer": "ipython3",
   "version": "3.7.4"
  }
 },
 "nbformat": 4,
 "nbformat_minor": 2
}
